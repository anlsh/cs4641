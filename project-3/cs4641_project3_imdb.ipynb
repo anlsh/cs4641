{
  "nbformat": 4,
  "nbformat_minor": 0,
  "metadata": {
    "colab": {
      "name": "cs4641-project3-imdb.ipynb",
      "version": "0.3.2",
      "provenance": [],
      "collapsed_sections": [
        "oJc7Zxs8InT4",
        "5sSovJ5dmTJ4",
        "mcuBNEehHfG9",
        "ZWlEFCEI_goH",
        "ZQ_LMqCMa-LA",
        "6D6n42OQIFoD",
        "hjDhLCjNIJdH",
        "A5nnLlPahgZ3",
        "f-mthZlTpyWm",
        "nHzCbTLg7cZe",
        "LC1IKGR-vAvG",
        "cpga1tiSQ8Gd",
        "VyWPbUvCRarW",
        "OXIxM7taSFda"
      ]
    },
    "kernelspec": {
      "name": "python3",
      "display_name": "Python 3"
    },
    "accelerator": "GPU"
  },
  "cells": [
    {
      "metadata": {
        "id": "jEe68EQhdl3M",
        "colab_type": "text"
      },
      "cell_type": "markdown",
      "source": [
        "** Notes **\n",
        "\n",
        "[Sklearn's K-Means](https://scikit-learn.org/stable/modules/generated/sklearn.cluster.KMeans.html) supports sparse matrices\n",
        "\n",
        "However the Gaussian Mixture model does not, and as such I subsample the IMDB dataset so that it fits into memory"
      ]
    },
    {
      "metadata": {
        "id": "oJc7Zxs8InT4",
        "colab_type": "text"
      },
      "cell_type": "markdown",
      "source": [
        "### Initial Setup"
      ]
    },
    {
      "metadata": {
        "id": "1VRTfGUHHeNB",
        "colab_type": "code",
        "outputId": "324669bd-920e-4f73-a80a-b5335b1ce4ea",
        "colab": {
          "base_uri": "https://localhost:8080/",
          "height": 35
        }
      },
      "cell_type": "code",
      "source": [
        "import keras\n",
        "from sklearn import metrics\n",
        "from sklearn.model_selection import train_test_split\n",
        "import numpy as np\n",
        "import time\n",
        "import sklearn\n",
        "import pylab\n",
        "import matplotlib.pyplot as plt\n",
        "import scipy\n",
        "import itertools\n",
        "from sklearn.feature_extraction.text import CountVectorizer\n",
        "import pandas as pd\n",
        "import nltk\n",
        "import os.path\n",
        "from bs4 import BeautifulSoup\n",
        "import re\n",
        "from nltk.corpus import stopwords\n",
        "from nltk.stem.porter import PorterStemmer\n",
        "from skimage.color import rgb2gray\n",
        "from sklearn.exceptions import DataConversionWarning\n",
        "from sklearn.decomposition import PCA, FastICA\n",
        "from sklearn.random_projection import GaussianRandomProjection as GRP\n",
        "from sklearn.random_projection import SparseRandomProjection as SRP\n",
        "from sklearn.feature_selection import VarianceThreshold as VTSelector\n",
        "from copy import deepcopy\n",
        "from sklearn.preprocessing import OneHotEncoder\n",
        "import torch.nn\n",
        "import warnings\n",
        "import keras.layers as layers\n",
        "from keras.models import Sequential\n",
        "from keras.layers import Dense\n",
        "from keras.layers import Dropout\n",
        "from keras.layers import Flatten\n",
        "import keras.layers as layers\n",
        "from keras.constraints import maxnorm\n",
        "from keras.optimizers import SGD\n",
        "from keras.layers.convolutional import Conv2D\n",
        "from keras.layers.convolutional import MaxPooling2D\n",
        "from keras.utils import np_utils \n",
        "from matplotlib.cbook.deprecation import MatplotlibDeprecationWarning\n",
        "import json\n",
        "try:\n",
        "    from google.colab import files\n",
        "except ImportError:\n",
        "  print(\"[0x000] | \" + \"Not running on colab\")\n",
        "  \n",
        "from sklearn.preprocessing import StandardScaler\n",
        "from sklearn.cluster import KMeans\n",
        "from sklearn.pipeline import Pipeline\n",
        "from sklearn.mixture import GaussianMixture\n",
        "\n",
        "# Hopefully memory is less of an issue with colab, but I'll keep this in case\n",
        "NP_DATA_TYPE = np.float32\n",
        "\n",
        "IMDB = \"IMDB\"\n",
        "DATASET = IMDB\n",
        "\n",
        "PCA_CODE = \"PCA\"\n",
        "ICA_CODE = \"ICA\"\n",
        "RANDPROJ_CODE = \"Randomized Projections\"\n",
        "\n",
        "KEY_PREPROC = \"preproc\"\n",
        "KEY_DIMRED = \"dimred\"\n",
        "KEY_CLUST = \"clust\"\n",
        "KEY_PIPELINE = \"pipeline\"\n",
        "KEY_TRAINING = \"training\"\n",
        "KEY_REPS = \"reps\""
      ],
      "execution_count": 0,
      "outputs": [
        {
          "output_type": "stream",
          "text": [
            "Using TensorFlow backend.\n"
          ],
          "name": "stderr"
        }
      ]
    },
    {
      "metadata": {
        "id": "5sSovJ5dmTJ4",
        "colab_type": "text"
      },
      "cell_type": "markdown",
      "source": [
        "### Common methods used throughout"
      ]
    },
    {
      "metadata": {
        "id": "PjyEYGiImKiD",
        "colab_type": "code",
        "colab": {}
      },
      "cell_type": "code",
      "source": [
        "def augmented_split(*args, test_size=None, shuffle=True, random_state=None):\n",
        "  \n",
        "    if test_size < 0 or test_size >= 1:\n",
        "        raise RuntimeError(\"Cant handle test fraction of \", str(test_size))\n",
        "    \n",
        "    if test_size == 0:\n",
        "        out = [(a, None) for a in args]\n",
        "        return itertools.chain(*out)\n",
        "    else:\n",
        "      return train_test_split(*args, \n",
        "                              test_size=test_size, \n",
        "                              shuffle=shuffle,\n",
        "                              random_state=random_state)\n",
        "    \n",
        "def split_dataset(dataset, test_over_total, val_over_train): \n",
        "    x, y = dataset\n",
        "    \n",
        "    x_train, x_test, y_train, y_test = augmented_split(x, y, test_size=test_over_total)\n",
        "    x_train, x_val, y_train, y_val = augmented_split(x_train, y_train, test_size=val_over_train)\n",
        "    \n",
        "    return (x_train, y_train), (x_val, y_val), (x_test, y_test)\n",
        "\n",
        "def flatten_data_array(X):\n",
        "    # Given an array X where X[i] is the ith data tensor, return an array X'\n",
        "    # where X'[i] is the flattened data of the ith data tensor\n",
        "    num_datapoints = X.shape[0]\n",
        "    datum_size = np.prod(X.shape[1:])\n",
        "    return X.reshape([num_datapoints, datum_size])\n",
        "\n",
        "def get_pipeline(pipeline_spec):\n",
        "  \n",
        "    # Pipeline spec should be an array of tuples, each in the format\n",
        "    # (step_name, step_class, step_args)\n",
        "    pipe_args = []\n",
        "    \n",
        "    for spec in pipeline_spec:\n",
        "        pipe_args.append((spec[0], spec[1](**spec[2])))\n",
        "            \n",
        "    return Pipeline(pipe_args)\n",
        "\n",
        "def train_pipeline(config, train_data, test_data, fitness_metrics, verbose=1):\n",
        "  \n",
        "    repeats = config[KEY_TRAINING][KEY_REPS]\n",
        "  \n",
        "    pipelines = [None] * repeats\n",
        "    train_results = [None] * repeats\n",
        "    test_results = [None] * repeats\n",
        "    \n",
        "    x_train, y_train = train_data\n",
        "    x_test, y_test = test_data\n",
        "    \n",
        "    if verbose >= 1:\n",
        "        print(\"[0x001] | \" + \"Run Configuration: \", config)\n",
        "    \n",
        "    for index in range(repeats):\n",
        "      \n",
        "        if verbose >= 2:\n",
        "            print(\"[0x002] | \" + \"Repetition \", index)\n",
        "      \n",
        "        pipelines[index] = get_pipeline(config[KEY_PIPELINE])\n",
        "        \n",
        "        start_fit = time.time()\n",
        "        pipelines[index].fit(x_train, y_train)\n",
        "        end_fit = time.time()\n",
        "        if verbose >= 3:\n",
        "            print(\"[0x003] | \" + \"Fit data in \", (end_fit - start_fit), \" seconds\")\n",
        "        \n",
        "        start_eval = time.time()\n",
        "        train_results[index], test_results[index] = eval_clustering_pipeline(pipelines[index], \n",
        "                                                                             (train_set, test_set),\n",
        "                                                                             fitness_metrics)\n",
        "        end_eval = time.time()\n",
        "        if verbose >= 3:\n",
        "            print(\"[0x004] | \" + \"Predicted & Evaluated results in \", (end_eval - start_eval), \" seconds\")\n",
        "        \n",
        "        if verbose >= 2: \n",
        "            print(\"[0x005] | \" + \"Train/Test results are \", np.array(train_results[index]), \n",
        "                  np.array(test_results[index]))\n",
        "        \n",
        "    return pipelines, train_results, test_results\n",
        "  \n",
        "def eval_clustering_pipeline(pipeline, dataset_list, fitness_metric_list):\n",
        "  \n",
        "    \"\"\"\n",
        "    :pipeline: An sklearn pipeline implementing the predict function\n",
        "    :dataset_list: A list of (x, y) tuples\n",
        "    :fitness_metric_list: A list of functions (see sklearn.accuracy_metric for signature)\n",
        "    \"\"\"\n",
        "    \n",
        "    rets = []\n",
        "    for x, y in dataset_list:\n",
        "        preds = pipeline.predict(x)\n",
        "        rets.append(np.array([metric(y, preds) for metric in fitness_metric_list]))\n",
        "        \n",
        "    return tuple(rets)\n",
        "        \n",
        "def sweep_pipelines(pipeline_configs, train_data, test_data, fitness_metrics, verbose):\n",
        "            \n",
        "    pipelines = [None] * len(pipeline_configs)\n",
        "    config_train_avgs = [None] * len(pipelines)\n",
        "    config_test_avgs = [None] * len(pipelines)\n",
        "\n",
        "    for index, config in enumerate(pipeline_configs):\n",
        "        print(\"[0x006] | \" + \"===================================\")\n",
        "        print(\"[0x007] | \" + \"Pipeline run \", index)\n",
        "        \n",
        "        start_time = time.time()\n",
        "        warnings.filterwarnings(action='ignore', category=DataConversionWarning)\n",
        "        \n",
        "        all_config_pipelines, \\\n",
        "            all_config_train_results, \\\n",
        "            all_config_test_results = train_pipeline(config, train_data, test_data, \n",
        "                                                     fitness_metrics, verbose=verbose)\n",
        "        \n",
        "        warnings.resetwarnings()\n",
        "        end_time = time.time()\n",
        "        \n",
        "        pipelines[index] = all_config_pipelines\n",
        "        config_train_avgs[index] = np.average(all_config_train_results, axis=0)\n",
        "        config_test_avgs[index] = np.average(all_config_test_results, axis=0)\n",
        "        \n",
        "        print(\"[0x008] | \" + \"Finished in \", (end_time - start_time), \" seconds\")\n",
        "        print(\"[0x009] | \" + \"Average Train Scores: \", config_train_avgs[index])\n",
        "        print(\"[0x00a] | \" + \"Average Test Scores: \", config_test_avgs[index])\n",
        "        \n",
        "    return pipelines, config_train_avgs, config_test_avgs\n",
        "  \n",
        "def index_of_stepname_in_pipeline(stepname, pipeline_specs):\n",
        "    c = [ii for ii, thing in enumerate(pipeline_specs) if thing[0] == stepname]\n",
        "    if c is None:\n",
        "        raise RuntimeError(\"Couldn't find the specified step in the config :(\")\n",
        "    elif len(c) > 1:\n",
        "        raise RuntimeError(\"Two indices corresponding to this pipeline?\")\n",
        "    return c[0]\n",
        "  \n",
        "def param_experiment(param_name, param_vals, tform, optimal_config, train_set, test_set, clustering_fitnesses, verbose=1):\n",
        "  \n",
        "    param_step_configs = [None] * len(param_vals)\n",
        "    \n",
        "    for index, _ in enumerate(param_step_configs):\n",
        "  \n",
        "        clust_index = index_of_stepname_in_pipeline(KEY_CLUST, optimal_config[KEY_PIPELINE])\n",
        "        param_step_configs[index] = deepcopy(optimal_config)\n",
        "        param_step_configs[index][KEY_PIPELINE][clust_index][2][param_name] = tform(param_vals[index])\n",
        "    \n",
        "    pipelines, avg_train_results, avg_test_results = sweep_pipelines(param_step_configs,\n",
        "                                                                     train_set,\n",
        "                                                                     test_set,\n",
        "                                                                     clustering_fitnesses,\n",
        "                                                                     verbose=verbose\n",
        "                                                                    )\n",
        "                                                                   \n",
        "    return pipelines, avg_train_results, avg_test_results \n",
        "  \n",
        "def size_experiment(config, dataset, train_frac_list, test_frac, clustering_fitnesses):\n",
        "  \n",
        "    train_set, _, test_set = split_dataset(dataset, test_frac, 0)\n",
        "    _ = None\n",
        "    \n",
        "    pipelines = [None] * len(train_frac_list)\n",
        "    avg_train_results = [None] * len(train_frac_list)\n",
        "    avg_test_results = [None] * len(train_frac_list)\n",
        "    \n",
        "    for index, tfrac in enumerate(train_frac_list):\n",
        "        print(\"[0x00b] | \" + \"Size Experiment: \", index)\n",
        "        print(\"[0x00c] | \" + \"Train Fraction: \", tfrac, \" of \", (1 - test_frac))\n",
        "        curr_train_set, _, _ = split_dataset(train_set, 0, 1 - tfrac)\n",
        "        _ = None\n",
        "        \n",
        "        start_time = time.time()\n",
        "        warnings.filterwarnings(action='ignore', category=DataConversionWarning)\n",
        "        \n",
        "        pipelines[index], all_train_results, all_test_results = train_pipeline(config, \n",
        "                                                                curr_train_set, test_set,\n",
        "                                                                clustering_fitnesses)\n",
        "        \n",
        "        warnings.resetwarnings()\n",
        "        end_time = time.time()\n",
        "        \n",
        "        avg_train_results[index] = np.average(all_train_results, axis=0)\n",
        "        avg_test_results[index] = np.average(all_test_results, axis=0)\n",
        "        \n",
        "        print(\"[0x00d] | \" + \"Finished in \", (end_time - start_time), \" seconds\")\n",
        "        print(\"[0x00e] | \" + \"Average Train Scores: \", avg_train_results[index])\n",
        "        print(\"[0x00f] | \" + \"Average Test Scores: \", avg_test_results[index])\n",
        "        \n",
        "    return pipelines, avg_train_results, avg_test_results\n",
        "  \n",
        "def plot_clustering_metrics(title, xaxis_label, xvals, train_results, test_results,\n",
        "                           linewidth=2, markersize=15):\n",
        "\n",
        "    xvals = np.array(xvals)\n",
        "    train_results = np.array(train_results)\n",
        "    test_results = np.array(test_results)\n",
        "\n",
        "    assert(train_results.shape == test_results.shape)\n",
        "    assert(len(xvals) == train_results.shape[0])\n",
        "    # Three because I've been keeping track of three metrics of course!\n",
        "    assert(train_results.shape[1] == 3)\n",
        "    \n",
        "    plt.title(title)\n",
        "    plt.xlabel(xaxis_label)\n",
        "    \n",
        "    plt.plot(xvals, train_results[:,0], 'bo-', label=\"Train Rand\",linewidth=linewidth, markersize=markersize)\n",
        "    plt.plot(xvals, train_results[:,1], 'b^--', label=\"Train Homogeneity\", linewidth=linewidth, markersize=markersize)\n",
        "    plt.plot(xvals, train_results[:,2], 'bp-.', label=\"Train Completeness\", linewidth=linewidth, markersize=markersize)\n",
        "\n",
        "    plt.plot(xvals, test_results[:,0], 'ro-', label=\"Test Rand\", linewidth=linewidth, markersize=markersize)\n",
        "    plt.plot(xvals, test_results[:,1], 'r^--', label=\"Test Homogeneity\", linewidth=linewidth, markersize=markersize)\n",
        "    plt.plot(xvals, test_results[:,2], 'rp-.', label=\"Train Completeness\", linewidth=linewidth, markersize=markersize)\n",
        "    \n",
        "    pylab.legend(loc='best')\n",
        "    plt.show()\n",
        "    \n",
        "\n",
        "def pca_num_components(pca):\n",
        "    return pca.components_.shape[0]\n",
        "\n",
        "def pca_explained_variance_ratio(pca):\n",
        "    c = pca.explained_variance_\n",
        "    return c / np.sum(c)\n",
        "  \n",
        "def ensure_numpy(x):\n",
        "    try:\n",
        "        return x.toarray()\n",
        "    except AttributeError:\n",
        "        return x"
      ],
      "execution_count": 0,
      "outputs": []
    },
    {
      "metadata": {
        "id": "mcuBNEehHfG9",
        "colab_type": "text"
      },
      "cell_type": "markdown",
      "source": [
        "### Mixin Functions for Clustering"
      ]
    },
    {
      "metadata": {
        "id": "PIlzmuVlHedY",
        "colab_type": "code",
        "colab": {}
      },
      "cell_type": "code",
      "source": [
        "def general_sweep_mixin(mixin, train_set, test_set):\n",
        "    return sweep_pipelines(mixin[\"configs\"],\n",
        "                           train_set,\n",
        "                           test_set,\n",
        "                           mixin[\"fitnesses\"],\n",
        "                           verbose=1\n",
        "                          )\n",
        "  \n",
        "def parameter_experiment_mixin(mixin, train_set, test_set):\n",
        "    assert(len(mixin[\"configs\"]) == 1)\n",
        "    optimal_config = deepcopy(mixin[\"configs\"][0])\n",
        "                                                                   \n",
        "    pipelines, avg_train_results, avg_test_results = param_experiment(mixin[\"pexp_varname\"], \n",
        "                                                                      mixin[\"pexp_varvals\"],\n",
        "                                                                      mixin[\"pexp_tform\"],\n",
        "                                                                      optimal_config,\n",
        "                                                                      train_set,\n",
        "                                                                      test_set,\n",
        "                                                                      mixin[\"fitnesses\"])\n",
        "\n",
        "    plot_clustering_metrics(DATASET + \" \" + mixin[\"CLUSTER_STR\"] + \": Scores vs # Clusters\", \"# Clusters\",\n",
        "                            mixin[\"pexp_varvals\"], avg_train_results, avg_test_results)\n",
        "    \n",
        "def size_experiment_mixin(mixin, dataset): \n",
        "    assert(len(mixin[\"configs\"]) == 1)\n",
        "    optimal_config = deepcopy(mixin[\"configs\"][0])\n",
        "\n",
        "    _, avg_train_results, avg_test_results = size_experiment(optimal_config, dataset,\n",
        "                                                             mixin[\"sexp_fracs\"], mixin[\"sexp_holdout\"],\n",
        "                                                             mixin[\"fitnesses\"])\n",
        "\n",
        "    plot_clustering_metrics(DATASET + \" \" + mixin[\"CLUSTER_STR\"] + \": Scores vs Training Fraction\", \"Training Fraction\",\n",
        "                            mixin[\"sexp_fracs\"], avg_train_results, avg_test_results)\n",
        "    \n",
        "def combine_clusterspec_with_dimred(clust_spec, trained_dimred_pipeline, train_set):\n",
        "  \n",
        "    \"\"\"\n",
        "    :clust_pipeline_spec: The SPECIFICATION for the JUST THE CLUSTERING PART of the new pipeline\n",
        "        It looks like a list of (name, thingy, thingy-params) tuples\n",
        "    \n",
        "    :dimred_pipeline: An acutal sklearn pipeline object which ALREADY BEEN FITTED\n",
        "        to the training data\n",
        "        \n",
        "    :train_sets: A tuple which looks like (x_train, y_train). It should be THE SAME\n",
        "        dataset which was used to train the dimension reduction pipeline\n",
        "    \"\"\"\n",
        "    \n",
        "    x, y = train_set\n",
        "    x_dr = trained_dimred_pipeline.transform(x)\n",
        "    \n",
        "    if len(clust_spec) > 1:\n",
        "        print(\"[0x010] | \" + \"WARNING: Discarding all but the last entry of clusterspec\")\n",
        "    clusterer = get_pipeline([clust_spec[-1]])\n",
        "    clusterer.fit(x_dr)\n",
        "    \n",
        "    final_pipe_args = [(KEY_DIMRED, trained_dimred_pipeline),\n",
        "                       (KEY_CLUST, clusterer)]\n",
        "    \n",
        "    final_pipeline = Pipeline(final_pipe_args)\n",
        "\n",
        "    return final_pipeline\n",
        "  \n",
        "class OneHotted_ClusterPipeline:\n",
        "    \n",
        "    def __init__(self, cluster_pipeline, train_x):\n",
        "      \n",
        "        \"\"\"\n",
        "        :cluster_pipeline: An sklearn.Pipeline object implementing the predict() function\n",
        "        :train_set: A data array, should be the same cluster_pipeline was fit to\n",
        "         \"\"\"\n",
        "        \n",
        "        self.cluster_pipeline = cluster_pipeline\n",
        "        self.onehotter = OneHotEncoder()\n",
        "        self.onehotter.fit(self.cluster_pipeline.predict(train_set[0]).reshape(-1, 1))\n",
        "        \n",
        "    def predict(self, X):\n",
        "        clusters = self.cluster_pipeline.predict(X)\n",
        "        return self.onehotter.transform(clusters.reshape(-1, 1))\n",
        "      \n",
        "    def transform(self, X):\n",
        "        return self.predict(X)\n",
        "      \n",
        "def countvec_to_string(vectorizer, vector):\n",
        "    return [\" \".join(vectorizer.inverse_transform(vector)[0].tolist())]\n",
        "\n",
        "def visualize_word_components(components, vectorizer, how_many, threshold,):\n",
        "    \"\"\"\n",
        "    Given an array of components, convert the first how_many into the words...\n",
        "    \n",
        "    Only count the words which are above some threshold\n",
        "    \"\"\"\n",
        "    clipped_components = components.copy()[:how_many]\n",
        "    clipped_components = threshold_countvecs(clipped_components, threshold)\n",
        "    return [countvec_to_string(vectorizer, vec) for vec in clipped_components]\n",
        "  \n",
        "def threshold_countvecs(countvecs, threshold,):\n",
        "    countvecs = np.clip(countvecs.copy(), 0, 1)\n",
        "    countvecs[countvecs < threshold] = 0\n",
        "    return countvecs"
      ],
      "execution_count": 0,
      "outputs": []
    },
    {
      "metadata": {
        "id": "ZWlEFCEI_goH",
        "colab_type": "text"
      },
      "cell_type": "markdown",
      "source": [
        "### Neural Network Code stuff..."
      ]
    },
    {
      "metadata": {
        "id": "zlZAlo_B_pOh",
        "colab_type": "code",
        "colab": {}
      },
      "cell_type": "code",
      "source": [
        "def batch_generator(X, y, batch_size, shuffle):\n",
        "    number_of_batches = np.floor(X.shape[0]/batch_size)\n",
        "    counter = 0\n",
        "    sample_index = np.arange(X.shape[0])\n",
        "    if shuffle:\n",
        "        np.random.shuffle(sample_index)\n",
        "    while True:\n",
        "        batch_index = sample_index[batch_size*counter:batch_size*(counter+1)]\n",
        "        X_batch = ensure_numpy(X[batch_index,:])      \n",
        "        y_batch = y[batch_index]\n",
        "        counter += 1\n",
        "        yield X_batch, y_batch\n",
        "        if (counter == number_of_batches):\n",
        "            if shuffle:\n",
        "                np.random.shuffle(sample_index)\n",
        "            counter = 0\n",
        "\n",
        "def create_model(lrate, momentum, layer_sizes, batch_size, epochs):\n",
        "    \n",
        "    if len(layer_sizes) <= 2:\n",
        "        raise RuntimeError(\"Hey, no hidden layers!?!?\")\n",
        "    \n",
        "    model = Sequential()\n",
        "    # Input Layer\n",
        "    model.add(layers.Dense(layer_sizes[1], activation=\"relu\", input_shape=(layer_sizes[0],)))\n",
        "    # Hidden Layers\n",
        "    for hidden_size in layer_sizes[2:-1]:\n",
        "        model.add(layers.Dropout(0.2, noise_shape=None, seed=None))\n",
        "        model.add(layers.Dense(hidden_size, activation=\"relu\"))\n",
        "    # Output layer\n",
        "    model.add(layers.Dense(layer_sizes[-1], activation=\"sigmoid\"))\n",
        "              \n",
        "    decay = lrate / epochs\n",
        "    sgd = SGD(lr=lrate, momentum=momentum, decay=decay, nesterov=False)\n",
        "    model.compile(loss='categorical_crossentropy', optimizer=sgd, metrics=['accuracy'])\n",
        "    return model, {\"epochs\": epochs, \"batch_size\": batch_size} \n",
        "  \n",
        "def experiments_network(title,\n",
        "                        pipeline, \n",
        "                        train_set, val_set, \n",
        "                        hidden_sizes, network_hyperparams,\n",
        "                        verbose=0):\n",
        "  \n",
        "    \"\"\"\n",
        "    :pipeline: A fully-trained sklearn pipeline or OneHotWrapper (important thing is that it implements transform())\n",
        "    :train_set: An (x, y) tuple. Should be the one that pipeline was trained on\n",
        "        Should be UNTRANSFORMED ie the y's should be numbers instead of one-hots and calling \n",
        "        pipeline.predict on x should make sense   \n",
        "    :val_set: An (x, y) tuple, also shouldn't be transformed\n",
        "    :hidden_sizes: A python list of integers representing hidden layer sizes\n",
        "    :network_hyperparams: a dictionary {epochs, lrate, momentum, batch_size}\n",
        "    \"\"\"\n",
        "  \n",
        "    ############################################################\n",
        "    # Mess around with datasets! (Create all the right things) #\n",
        "    ############################################################\n",
        "    \n",
        "    x, y = train_set\n",
        "    x = ensure_numpy(pipeline.transform(x))\n",
        "    y = np_utils.to_categorical(y)\n",
        "    train_set = (x, y) \n",
        "    \n",
        "    x, y = val_set\n",
        "    x = ensure_numpy(pipeline.transform(x))\n",
        "    y = np_utils.to_categorical(y)\n",
        "    val_set = (x, y) \n",
        "\n",
        "    x = None\n",
        "    y = None\n",
        "    \n",
        "    x_train, y_train = train_set\n",
        "    x_val, y_val = val_set\n",
        "    \n",
        "    datum_size = x_train.shape[1]\n",
        "    output_size = y_train.shape[1]\n",
        "    \n",
        "    ##################################################################\n",
        "    # Finally, create the neural network we're going to actually use #\n",
        "    ##################################################################\n",
        "    \n",
        "    final_config = deepcopy(network_hyperparams)\n",
        "    final_config[\"layer_sizes\"] = [datum_size] + hidden_sizes + [output_size]\n",
        "    \n",
        "    model, fit_args = create_model(**final_config)\n",
        "    \n",
        "    #############################################################\n",
        "    # And at long last, actually carry out the training process #\n",
        "    #############################################################\n",
        "    \n",
        "    num_batches_per_epoch = np.floor(x_train.shape[0] / fit_args[\"batch_size\"])\n",
        "    start_time = time.time()\n",
        "    history = model.fit_generator(batch_generator(x_train, y_train, fit_args[\"batch_size\"], True),\n",
        "                                  validation_data=(x_val, y_val),\n",
        "                                  steps_per_epoch=num_batches_per_epoch,\n",
        "                                  epochs=fit_args[\"epochs\"], \n",
        "                                  verbose=verbose)\n",
        "    end_time = time.time()\n",
        "    print(\"[0x011] | \" + \"Finished fitting in \", (end_time - start_time)/60, \" mins\")\n",
        "    \n",
        "    print(\"[0x012] | \" + \"Final Test/Val Accuracies of [\", history.history[\"acc\"][-1], \n",
        "          \", \", history.history[\"val_acc\"][-1],\",],\")\n",
        "    \n",
        "    ##################\n",
        "    # Pretty graphs! #\n",
        "    ##################\n",
        "    \n",
        "    fig=plt.figure(figsize=(8, 8))\n",
        "    plt.plot(history.history['acc'], label='train')\n",
        "    plt.plot(history.history['val_acc'], label='val')\n",
        "    plt.title(title +': Model accuracy vs Epochs')\n",
        "    plt.ylabel('accuracy')\n",
        "    plt.xlabel('epoch')\n",
        "    pylab.legend(loc='best')\n",
        "    plt.ylim(ymin=0)\n",
        "    plt.show()\n",
        "    \n",
        "    fig=plt.figure(figsize=(8, 8))\n",
        "    plt.plot(history.history['loss'], label='train')\n",
        "    plt.plot(history.history['val_loss'], label='val')\n",
        "    plt.title(title + ': Model Loss vs Epochs')\n",
        "    plt.ylabel('Loss')\n",
        "    plt.xlabel('epoch')\n",
        "    pylab.legend(loc='best')\n",
        "    plt.ylim(ymin=0)\n",
        "    plt.show()\n",
        "    \n",
        "    return model, history\n",
        "  \n",
        "def mixin_augment_pipeline(mixin, tform_pipeline, train_set):\n",
        "\n",
        "    warnings.filterwarnings(action='ignore', category=DataConversionWarning)\n",
        "    warnings.filterwarnings(action='ignore', category=FutureWarning)\n",
        "    assert(len(mixin[\"configs\"]) == 1)\n",
        "    \n",
        "    cluster_pipeline = get_pipeline(mixin[\"configs\"][0][KEY_PIPELINE])\n",
        "    cluster_pipeline.fit(train_set[0])\n",
        "    cluster_dr_pipeline = combine_clusterspec_with_dimred(mixin[\"configs\"][0][KEY_PIPELINE], \n",
        "                                                       tform_pipeline, \n",
        "                                                       train_set)\n",
        "    cluster_dr_onehots_pipeline = OneHotted_ClusterPipeline(cluster_dr_pipeline, train_set)\n",
        "    \n",
        "    warnings.resetwarnings()\n",
        "    \n",
        "    return cluster_pipeline, tform_pipeline, cluster_dr_pipeline, cluster_dr_onehots_pipeline\n",
        "  \n",
        "def mixin_run_final_experiments(titles,\n",
        "                                mixin, pipelines, \n",
        "                                split_datasets, \n",
        "                                network_hyperparams={\"epochs\": 20, \"lrate\": .05, \"batch_size\": 32, \"momentum\": 0.9},\n",
        "                                hidden_sizes=[200, 100, 50],\n",
        "                                experiment_flags=(True, True, True, True),\n",
        "                                verbose=0):\n",
        "  \n",
        "    warnings.filterwarnings(action='ignore', category=DataConversionWarning)\n",
        "    warnings.filterwarnings(action='ignore', category=DeprecationWarning)\n",
        "    warnings.filterwarnings(action='ignore', category=MatplotlibDeprecationWarning)\n",
        "    warnings.filterwarnings(action='ignore', category=FutureWarning)\n",
        "    \n",
        "    train_set, val_set, test_set = split_datasets\n",
        "    cl_pipeline, dr_pipeline, drcl_pipeline, drcloh_pipeline = pipelines\n",
        "    flag_cl, flag_cldr, flag_nndr, flag_nncldr = experiment_flags\n",
        "    \n",
        "    def experiment_cl():\n",
        "        print(\"[0x041] | \" + \"===============================================================\")\n",
        "        print(\"[0x042] | \" + \"===============================================================\")\n",
        "        print(\"[0x043] | \" + \"Experiment: Clustering of raw data\")\n",
        "        print(\"[0x044] | \" + \"\")\n",
        "        \n",
        "        train_results, val_results, test_results = eval_clustering_pipeline(cl_pipeline, \n",
        "                                                                    split_datasets, \n",
        "                                                                    mixin[\"fitnesses\"])\n",
        "        print(\"[0x017] | \" + \"Train Results: \", train_results)\n",
        "        print(\"[0x018] | \" + \"Val Results: \", val_results)\n",
        "        print(\"[0x019] | \" + \"Test Results: \", test_results)\n",
        "        \n",
        "    def experiment_cldr():\n",
        "        print(\"[0x013] | \" + \"===============================================================\")\n",
        "        print(\"[0x014] | \" + \"===============================================================\")\n",
        "        print(\"[0x015] | \" + \"Experiment: Clustering of dim-reduced data\")\n",
        "        print(\"[0x016] | \" + \"\")\n",
        "        \n",
        "        train_results, val_results, test_results = eval_clustering_pipeline(drcl_pipeline, \n",
        "                                                                    split_datasets, \n",
        "                                                                    mixin[\"fitnesses\"])\n",
        "        print(\"[0x017] | \" + \"Train Results: \", train_results)\n",
        "        print(\"[0x018] | \" + \"Val Results: \", val_results)\n",
        "        print(\"[0x019] | \" + \"Test Results: \", test_results)\n",
        "        \n",
        "    def experiment_cl_cldr_comp():\n",
        "        comp_y_train = cl_pipeline.predict(train_set[0])\n",
        "        comp_y_val = cl_pipeline.predict(val_set[0])\n",
        "        comp_y_test = cl_pipeline.predict(test_set[0])\n",
        "        \n",
        "        comp_train_set = (train_set[0], comp_y_train)\n",
        "        comp_val_set = (val_set[0], comp_y_val)\n",
        "        comp_test_set = (test_set[0], comp_y_test)\n",
        "        \n",
        "        comp_datasets = (comp_train_set, comp_val_set, comp_test_set)\n",
        "        \n",
        "        print(\"[0x046] | \" + \"===============================================================\")\n",
        "        print(\"[0x047] | \" + \"===============================================================\")\n",
        "        print(\"[0x049] | \" + \"Experiment: Comparison of CL and DRCL Pipelines\")\n",
        "        print(\"[0x049] | \" + \"\")\n",
        "        \n",
        "        train_results, val_results, test_results = eval_clustering_pipeline(drcl_pipeline, \n",
        "                                                                    comp_datasets, \n",
        "                                                                    mixin[\"fitnesses\"])\n",
        "        print(\"[0x04a] | \" + \"Train Results: \", train_results)\n",
        "        print(\"[0x04b] | \" + \"Val Results: \", val_results)\n",
        "        print(\"[0x04c] | \" + \"Test Results: \", test_results)\n",
        "    \n",
        "    def experiment_nndr():\n",
        "        print(\"[0x01a] | \" + \"===============================================================\")\n",
        "        print(\"[0x01b] | \" + \"===============================================================\")\n",
        "        print(\"[0x01c] | \" + \"Experiment: Neural Network of dim-reduced data\")\n",
        "        print(\"[0x01d] | \" + \"\")\n",
        "        \n",
        "        model, history = experiments_network(titles[-2],\n",
        "                                             dr_pipeline, \n",
        "                                             train_set, val_set, \n",
        "                                             hidden_sizes, network_hyperparams,\n",
        "                                             verbose=verbose)\n",
        "        \n",
        "    def experiment_nncldr():\n",
        "        print(\"[0x01e] | \" + \"===============================================================\")\n",
        "        print(\"[0x01f] | \" + \"===============================================================\")\n",
        "        print(\"[0x020] | \" + \"Experiment: Neural Network of clusters of dim-reduced data\")\n",
        "        print(\"[0x021] | \" + \"\")\n",
        "        model, history = experiments_network(titles[-1],\n",
        "                                             drcloh_pipeline, \n",
        "                                             train_set, val_set, \n",
        "                                             hidden_sizes, network_hyperparams,\n",
        "                                             verbose=verbose)\n",
        "    if flag_cl:\n",
        "        experiment_cl()\n",
        "    if flag_cldr:\n",
        "        experiment_cldr()\n",
        "    if flag_cl and flag_cldr:\n",
        "        experiment_cl_cldr_comp()\n",
        "    if flag_nndr:\n",
        "        experiment_nndr()\n",
        "    if flag_nncldr:\n",
        "        experiment_nncldr()\n",
        "        \n",
        "    warnings.resetwarnings()\n",
        "        \n",
        "    return cl_pipeline, dr_pipeline, drcl_pipeline, drcloh_pipeline\n",
        "  \n",
        "def run_final_experiments(mixin, tform_pipeline, dr_string, cl_string,\n",
        "                          split_datasets, experiment_flags, verbose):\n",
        "    titles = (cl_string, \n",
        "              cl_string+\"(\"+dr_string+\")\", \n",
        "              \"Network\"+\"(\"+dr_string+\")\", \n",
        "              \"Network\"+\"(\"+cl_string+\"(\"+dr_string+\")\"+\")\",)\n",
        "\n",
        "    mixin_tform_pipes = mixin_augment_pipeline(mixin, tform_pipeline, split_datasets[0])\n",
        "    return mixin_run_final_experiments(titles,\n",
        "                                       mixin, mixin_tform_pipes, \n",
        "                                       split_datasets, \n",
        "                                       experiment_flags=experiment_flags,\n",
        "                                       verbose=verbose)"
      ],
      "execution_count": 0,
      "outputs": []
    },
    {
      "metadata": {
        "id": "ZQ_LMqCMa-LA",
        "colab_type": "text"
      },
      "cell_type": "markdown",
      "source": [
        "### Dataset Creation"
      ]
    },
    {
      "metadata": {
        "id": "DD8rlfO5IxT7",
        "colab_type": "code",
        "outputId": "cdecfa79-468c-4acc-e5a5-2a75004b2807",
        "colab": {
          "base_uri": "https://localhost:8080/"
        }
      },
      "cell_type": "code",
      "source": [
        "# IMDB DATASET\n",
        "\n",
        "######################\n",
        "# Tunable Parameters #\n",
        "######################\n",
        "\n",
        "MAX_WORD_FEATURES = 10000\n",
        "IMDB_DATASET_FRACTION = 0.3\n",
        "IMDB_TEST_OVER_TOTAL = .2\n",
        "IMDB_VAL_OVER_TRAIN = .2\n",
        "#######################\n",
        "\n",
        "DATASET = IMDB\n",
        "NUM_CLASSES = 2\n",
        "\n",
        "ONEHOTS_FILENAME = \"imdb-onehots.gz.npz\"\n",
        "LABELS_FILENAME = \"imdb-labels.gz\"\n",
        "WORDDICT_FILENAME = \"worddict.gz\"\n",
        "\n",
        "def clean_text(raw_review):\n",
        "    # Function to convert a raw review to a string of words\n",
        "    review_text = BeautifulSoup(raw_review, 'html.parser').get_text() # Remove HTML\n",
        "    letters_only = re.sub(\"[^a-zA-Z]\", \" \", review_text) # Remove non-letters \n",
        "    words = letters_only.lower().split() # Convert to lower case, split into individual words\n",
        "    stops = set(stopwords.words(\"english\")) # Remove stop words (use of sets makes this faster)               \n",
        "    meaningful_words = [w for w in words if not w in stops]                             \n",
        "    porter = PorterStemmer() # Reduce word to stem of word\n",
        "    stemmed_words = [porter.stem(w) for w in meaningful_words]\n",
        "    joined_words = ( \" \".join( stemmed_words )) # Join the words back into one string separated by space\n",
        "    return joined_words \n",
        "\n",
        "def apply_cleaning_function_to_series(X):\n",
        "    print(\"[0x050] | \" + 'Cleaning data')\n",
        "    start_time = time.time()\n",
        "    cleaned_X = []\n",
        "    for element in X:\n",
        "        cleaned_X.append(clean_text(element))\n",
        "    print (\"[0x051] | \" + 'Finished in ', str((time.time() - start_time)/60), \" minutes\")\n",
        "    return cleaned_X\n",
        "\n",
        "vectorizer = None\n",
        "if True or (not os.path.isfile(ONEHOTS_FILENAME)) \\\n",
        "   or (not os.path.isfile(LABELS_FILENAME)) \\\n",
        "   or (not os.path.isfile(WORDDICT_FILENAME)):\n",
        "\n",
        "    nltk.download('stopwords')\n",
        "    print(\"[0x052] | \" + \"one-hots not created yet: cleaning and saving to file\")\n",
        "    print(\"[0x053] | \" + \"Expect this to take about 10-15 minutes\")\n",
        "    data = pd.read_csv('https://gitlab.com/michaelallen1966/00_python_snippets_and_recipes/raw/master/machine_learning/data/IMDb.csv')\n",
        "    \n",
        "    x_cleaned = apply_cleaning_function_to_series(data[\"review\"])\n",
        "    y_all = np.array(data[\"sentiment\"]).ravel()\n",
        "    \n",
        "    # Free up memory!\n",
        "    data = None\n",
        "    vectorizer = CountVectorizer(analyzer=\"word\",\n",
        "                                 tokenizer=None,\n",
        "                                 preprocessor=None,\n",
        "                                 stop_words=None,\n",
        "                                 ngram_range=(1,1),\n",
        "                                 max_features=MAX_WORD_FEATURES)\n",
        "    vectorizer.fit(x_cleaned)\n",
        "    x_all = vectorizer.transform(x_cleaned)\n",
        "    x_cleaned = None\n",
        "    scipy.sparse.save_npz(ONEHOTS_FILENAME, x_all)\n",
        "    np.savetxt(LABELS_FILENAME, y_all)\n",
        "    \n",
        "    worddict = deepcopy(vectorizer.vocabulary_)\n",
        "    for k in worddict:\n",
        "        worddict[k] = int(worddict[k])\n",
        "    with open(WORDDICT_FILENAME, \"w\") as f:\n",
        "        f.write(json.dumps(worddict))\n",
        "else:\n",
        "    print(\"[0x054] | \" + \"loading one-hots from file\")\n",
        "    start_time = time.time()\n",
        "    x_all = scipy.sparse.load_npz(ONEHOTS_FILENAME)\n",
        "    y_all = np.loadtxt(LABELS_FILENAME)\n",
        "    with open(WORDDICT_FILENAME, \"r\") as f:\n",
        "        worddict = json.loads(f.read())\n",
        "    end_time = time.time()\n",
        "    print(\"[0x055] | \" + \"Finished loading one-hots in \", (end_time - start_time)/60, \" minutes\")\n",
        "    \n",
        "word_to_index = worddict\n",
        "index_to_word = {}\n",
        "for word in word_to_index:\n",
        "    index_to_word[word_to_index[word]] = word\n",
        "\n",
        "###############################################################################\n",
        "x_all = flatten_data_array(x_all)\n",
        "x_all, _, y_all, _ = augmented_split(x_all, y_all, \n",
        "                                     test_size=1 - IMDB_DATASET_FRACTION)\n",
        "_ = None\n",
        "x_all = ensure_numpy(x_all)\n",
        "train_set, val_set, test_set = split_dataset((x_all, y_all), \n",
        "                                             IMDB_TEST_OVER_TOTAL,\n",
        "                                             IMDB_VAL_OVER_TRAIN)\n",
        "\n",
        "split_datasets = (train_set, val_set, test_set)\n",
        "\n",
        "print(\"[0x023] | \" + \"Full (Used) Data, Label shapes = \", x_all.shape, \", \", y_all.shape)\n",
        "\n",
        "# files.download(ONEHOTS_FILENAME + \".npz\")\n",
        "# files.download(LABELS_FILENAME)\n",
        "# files.upload()\n",
        "# !ls\n",
        "# !rm worddict.gz imdb-labels.gz imdb-onehots.gz.npz"
      ],
      "execution_count": 0,
      "outputs": [
        {
          "output_type": "stream",
          "text": [
            "[nltk_data] Downloading package stopwords to /root/nltk_data...\n",
            "[nltk_data]   Unzipping corpora/stopwords.zip.\n",
            "[0x052] | one-hots not created yet: cleaning and saving to file\n",
            "[0x053] | Expect this to take about 10-15 minutes\n",
            "[0x050] | Cleaning data\n",
            "[0x051] | Finished in  3.18617426554362  minutes\n",
            "[0x023] | Full (Used) Data, Label shapes =  (15000, 10000) ,  (15000,)\n"
          ],
          "name": "stdout"
        }
      ]
    },
    {
      "metadata": {
        "id": "M6erUvmYhOrG",
        "colab_type": "text"
      },
      "cell_type": "markdown",
      "source": [
        "# Raw Clustering"
      ]
    },
    {
      "metadata": {
        "id": "QkAC6_26hYdl",
        "colab_type": "text"
      },
      "cell_type": "markdown",
      "source": [
        "## Method (K-Means or GMM) Selection: Run both, but run the one you really want last"
      ]
    },
    {
      "metadata": {
        "id": "6D6n42OQIFoD",
        "colab_type": "text"
      },
      "cell_type": "markdown",
      "source": [
        "### KMeans"
      ]
    },
    {
      "metadata": {
        "id": "lUW1LcU_Ql_6",
        "colab_type": "code",
        "colab": {}
      },
      "cell_type": "code",
      "source": [
        "####################################################\n",
        "# Run this cell if you want to cluster with KMeans #\n",
        "####################################################\n",
        "\n",
        "km_mixins = {}\n",
        "km_mixins[\"CLUSTER_STR\"] = \"KMeans\"\n",
        "km_mixins[\"common_params\"] = {\"n_init\": 1, \"n_jobs\": 5, \"copy_x\": True}\n",
        "\n",
        "km_mixins[\"fitnesses\"] = [\n",
        "    sklearn.metrics.adjusted_rand_score,\n",
        "    sklearn.metrics.homogeneity_score,\n",
        "    sklearn.metrics.completeness_score,\n",
        "]\n",
        "\n",
        "km_mixins[\"configs\"] = [\n",
        "    {KEY_PIPELINE: [(KEY_PREPROC, StandardScaler, {\"with_mean\": False, \"with_std\": False}), \n",
        "                    (KEY_CLUST, KMeans, {\"n_clusters\": 400, \"max_iter\": 100, \"tol\": 0.001,})],\n",
        "     KEY_TRAINING: {KEY_REPS: 1},},\n",
        "    \n",
        "]\n",
        "km_mixins[\"sexp_fracs\"] = [.05, .1, .2, .4, .6, .8]\n",
        "km_mixins[\"sexp_holdout\"] = .2\n",
        "\n",
        "km_mixins['pexp_varname'] = \"n_clusters\"\n",
        "km_mixins['pexp_varvals'] = [2, 20, 60, 200, 400]\n",
        "km_mixins['pexp_tform'] = lambda x: x\n",
        "\n",
        "###############################################################################################\n",
        "for index, c in enumerate(km_mixins[\"configs\"]):\n",
        "    for common_key in km_mixins[\"common_params\"]:\n",
        "        assert(c[KEY_PIPELINE][1][0] == KEY_CLUST)\n",
        "        c[KEY_PIPELINE][1][2][common_key] = km_mixins[\"common_params\"][common_key]\n",
        "        \n",
        "###############################################################################################\n",
        "\n",
        "chosen_mixin = km_mixins"
      ],
      "execution_count": 0,
      "outputs": []
    },
    {
      "metadata": {
        "id": "hjDhLCjNIJdH",
        "colab_type": "text"
      },
      "cell_type": "markdown",
      "source": [
        "### GMM"
      ]
    },
    {
      "metadata": {
        "id": "VwJMUZFAD430",
        "colab_type": "code",
        "colab": {}
      },
      "cell_type": "code",
      "source": [
        "#################################################\n",
        "# Run this cell if you want to cluster with GMM #\n",
        "#################################################\n",
        "\n",
        "gmm_mixins = {}\n",
        "gmm_mixins[\"CLUSTER_STR\"] = \"GMM\"\n",
        "gmm_mixins[\"common_params\"] = {\"n_init\": 1,}\n",
        "\n",
        "gmm_mixins[\"fitnesses\"] = [\n",
        "    sklearn.metrics.adjusted_rand_score,\n",
        "    sklearn.metrics.homogeneity_score,\n",
        "    sklearn.metrics.completeness_score,\n",
        "]\n",
        "\n",
        "gmm_mixins[\"configs\"] = [\n",
        "    {KEY_PIPELINE: [(KEY_CLUST, GaussianMixture, {\"n_components\": 400, \"max_iter\": 100, \"covariance_type\": \"spherical\",})], \n",
        "     KEY_TRAINING: {KEY_REPS: 1},},\n",
        "]\n",
        "gmm_mixins[\"sexp_fracs\"] = [ .1, .2, .4, .6, .8]\n",
        "gmm_mixins[\"sexp_holdout\"] = .2\n",
        "\n",
        "gmm_mixins['pexp_varname'] = \"n_components\"\n",
        "gmm_mixins['pexp_varvals'] = [2, 20, 60, 200]\n",
        "gmm_mixins['pexp_tform'] = lambda x: x\n",
        "\n",
        "###############################################################################################\n",
        "for index, c in enumerate(gmm_mixins[\"configs\"]):\n",
        "    clust_index = index_of_stepname_in_pipeline(KEY_CLUST, c[KEY_PIPELINE])\n",
        "    for common_key in gmm_mixins[\"common_params\"]:\n",
        "        c[KEY_PIPELINE][clust_index][2][common_key] = gmm_mixins[\"common_params\"][common_key]\n",
        "        \n",
        "###############################################################################################\n",
        "\n",
        "chosen_mixin = gmm_mixins"
      ],
      "execution_count": 0,
      "outputs": []
    },
    {
      "metadata": {
        "id": "A5nnLlPahgZ3",
        "colab_type": "text"
      },
      "cell_type": "markdown",
      "source": [
        "## General Evaluation (Optional)\n",
        "\n",
        "Used for determining the best set of hyperparams to use in further experiments"
      ]
    },
    {
      "metadata": {
        "id": "9-g20oLh3-s4",
        "colab_type": "code",
        "colab": {}
      },
      "cell_type": "code",
      "source": [
        "general_sweep_mixin(chosen_mixin, train_set, val_set)"
      ],
      "execution_count": 0,
      "outputs": []
    },
    {
      "metadata": {
        "id": "f-mthZlTpyWm",
        "colab_type": "text"
      },
      "cell_type": "markdown",
      "source": [
        "## Parameter Experiment (Optional)\n",
        "\n",
        "Used to determine the effect of varying a certain parameter on performance"
      ]
    },
    {
      "metadata": {
        "id": "mE2NPbCnpO4I",
        "colab_type": "code",
        "outputId": "4eda43e3-67b9-4515-9f90-161762892cae",
        "colab": {
          "base_uri": "https://localhost:8080/",
          "height": 376
        }
      },
      "cell_type": "code",
      "source": [
        "parameter_experiment_mixin(chosen_mixin, train_set, val_set)"
      ],
      "execution_count": 0,
      "outputs": [
        {
          "output_type": "display_data",
          "data": {
            "image/png": "[encoded data removed]",
            "text/plain": [
              "<Figure size 576x396 with 1 Axes>"
            ]
          },
          "metadata": {
            "tags": []
          }
        }
      ]
    },
    {
      "metadata": {
        "id": "nHzCbTLg7cZe",
        "colab_type": "text"
      },
      "cell_type": "markdown",
      "source": [
        "## Size Experiment (Optional)\n",
        "\n",
        "Used to determine the size of training set on performance"
      ]
    },
    {
      "metadata": {
        "id": "IhIl6bfm7bgj",
        "colab_type": "code",
        "outputId": "4d679100-4608-4129-f271-d7315b3bf373",
        "colab": {
          "base_uri": "https://localhost:8080/",
          "height": 930
        }
      },
      "cell_type": "code",
      "source": [
        "size_experiment_mixin(chosen_mixin, train_set)"
      ],
      "execution_count": 0,
      "outputs": [
        {
          "output_type": "stream",
          "text": [
            "[0x00b] | Size Experiment:  0\n",
            "[0x00c] | Train Fraction:  0.1  of  0.8\n",
            "[0x001] | Run Configuration:  {'pipeline': [('clust', <class 'sklearn.mixture.gaussian_mixture.GaussianMixture'>, {'n_components': 400, 'max_iter': 100, 'covariance_type': 'spherical', 'n_init': 1})], 'training': {'reps': 1}}\n",
            "[0x00d] | Finished in  30.816951990127563  seconds\n",
            "[0x00e] | Average Train Scores:  [0.00205954 0.05187182 0.0191432 ]\n",
            "[0x00f] | Average Test Scores:  [0.00424451 0.01438222 0.00657587]\n",
            "[0x00b] | Size Experiment:  1\n",
            "[0x00c] | Train Fraction:  0.2  of  0.8\n",
            "[0x001] | Run Configuration:  {'pipeline': [('clust', <class 'sklearn.mixture.gaussian_mixture.GaussianMixture'>, {'n_components': 400, 'max_iter': 100, 'covariance_type': 'spherical', 'n_init': 1})], 'training': {'reps': 1}}\n",
            "[0x00d] | Finished in  75.28698420524597  seconds\n",
            "[0x00e] | Average Train Scores:  [0.00162355 0.04924925 0.01218135]\n",
            "[0x00f] | Average Test Scores:  [0.00217586 0.0145479  0.00408638]\n",
            "[0x00b] | Size Experiment:  2\n",
            "[0x00c] | Train Fraction:  0.4  of  0.8\n",
            "[0x001] | Run Configuration:  {'pipeline': [('clust', <class 'sklearn.mixture.gaussian_mixture.GaussianMixture'>, {'n_components': 400, 'max_iter': 100, 'covariance_type': 'spherical', 'n_init': 1})], 'training': {'reps': 1}}\n",
            "[0x00d] | Finished in  253.07033467292786  seconds\n",
            "[0x00e] | Average Train Scores:  [0.00155321 0.0595815  0.01332245]\n",
            "[0x00f] | Average Test Scores:  [0.0017437  0.0257534  0.00639236]\n",
            "[0x00b] | Size Experiment:  3\n",
            "[0x00c] | Train Fraction:  0.6  of  0.8\n",
            "[0x001] | Run Configuration:  {'pipeline': [('clust', <class 'sklearn.mixture.gaussian_mixture.GaussianMixture'>, {'n_components': 400, 'max_iter': 100, 'covariance_type': 'spherical', 'n_init': 1})], 'training': {'reps': 1}}\n",
            "[0x00d] | Finished in  514.4853332042694  seconds\n",
            "[0x00e] | Average Train Scores:  [0.00112868 0.06198551 0.01377894]\n",
            "[0x00f] | Average Test Scores:  [0.00162862 0.02803401 0.00687665]\n",
            "[0x00b] | Size Experiment:  4\n",
            "[0x00c] | Train Fraction:  0.8  of  0.8\n",
            "[0x001] | Run Configuration:  {'pipeline': [('clust', <class 'sklearn.mixture.gaussian_mixture.GaussianMixture'>, {'n_components': 400, 'max_iter': 100, 'covariance_type': 'spherical', 'n_init': 1})], 'training': {'reps': 1}}\n",
            "[0x00d] | Finished in  782.9493486881256  seconds\n",
            "[0x00e] | Average Train Scores:  [0.00107491 0.05775291 0.01137072]\n",
            "[0x00f] | Average Test Scores:  [0.00131093 0.02774703 0.00597228]\n"
          ],
          "name": "stdout"
        },
        {
          "output_type": "display_data",
          "data": {
            "image/png": "[encoded data removed]",
            "text/plain": [
              "<Figure size 576x396 with 1 Axes>"
            ]
          },
          "metadata": {
            "tags": []
          }
        }
      ]
    },
    {
      "metadata": {
        "id": "mQ9P95iOdKFt",
        "colab_type": "text"
      },
      "cell_type": "markdown",
      "source": [
        "# Dimensionality Reduction & Associated Experiments \n",
        "\n",
        "The DimRed/Clustering/NeuralNetwork experiments are in here too! Literally everything else that matters lmoa"
      ]
    },
    {
      "metadata": {
        "id": "G0mYCSj8dP4t",
        "colab_type": "text"
      },
      "cell_type": "markdown",
      "source": [
        "## Principal Components Analysis & Experiments"
      ]
    },
    {
      "metadata": {
        "id": "eBFiO0e0vYI_",
        "colab_type": "text"
      },
      "cell_type": "markdown",
      "source": [
        "### Train Various PCA configurations\n",
        "\n",
        "In order to proceed with experiments / visualizations, only one configuration can be in the list!"
      ]
    },
    {
      "metadata": {
        "id": "aoxh66X9dUUV",
        "colab_type": "code",
        "outputId": "90d32300-a766-4d35-b876-728886fc289e",
        "colab": {
          "base_uri": "https://localhost:8080/",
          "height": 90
        }
      },
      "cell_type": "code",
      "source": [
        "pca_configs = [\n",
        "    # Let's pick this!\n",
        "    {KEY_PIPELINE: [(KEY_PREPROC, StandardScaler, {\"with_mean\": True, \"with_std\": True}),\n",
        "                    (KEY_DIMRED, PCA, {\"n_components\": 300, \"copy\": True, \"whiten\": True, \"tol\": 0,}),],\n",
        "     KEY_TRAINING: {KEY_REPS: 1},},\n",
        "]\n",
        "pca_pipelines = [None] * len(pca_configs)\n",
        "\n",
        "for index, cfg in enumerate(pca_configs):\n",
        "    print(\"[0x024] | \" + \"PCA Run \", index)\n",
        "    print(\"[0x025] | \" + \"Configuration: \", cfg)\n",
        "    \n",
        "    pipeline = get_pipeline(cfg[KEY_PIPELINE])\n",
        "    start_time = time.time()\n",
        "    warnings.filterwarnings(action='ignore', category=DataConversionWarning)\n",
        "       \n",
        "    pca_pipelines[index] = pipeline\n",
        "    pca_pipelines[index].fit(train_set[0])\n",
        "    \n",
        "    warnings.resetwarnings()\n",
        "    end_time = time.time()\n",
        "    print(\"[0x026] | \" + \"Finished in \", (end_time - start_time), \" seconds\")"
      ],
      "execution_count": 0,
      "outputs": [
        {
          "output_type": "stream",
          "text": [
            "[0x024] | PCA Run  0\n",
            "[0x025] | Configuration:  {'pipeline': [('preproc', <class 'sklearn.preprocessing.data.StandardScaler'>, {'with_mean': True, 'with_std': True}), ('dimred', <class 'sklearn.decomposition.pca.PCA'>, {'n_components': 300, 'copy': True, 'whiten': True, 'tol': 0})], 'training': {'reps': 1}}\n",
            "[0x026] | Finished in  47.56307864189148  seconds\n"
          ],
          "name": "stdout"
        }
      ]
    },
    {
      "metadata": {
        "id": "mIP96xCi8B12",
        "colab_type": "code",
        "colab": {}
      },
      "cell_type": "code",
      "source": [
        "# Experiments for PCA\n",
        "tform_name = \"PCA\"\n",
        "if len(pca_pipelines) != 1:\n",
        "    raise RuntimeWarning(\"Warning: More than one \" + tform_name + \" configuration detected!!!!!!\")   \n",
        "final_pipeline = pca_pipelines[0]\n",
        "final_tform = final_pipeline.named_steps[KEY_DIMRED]"
      ],
      "execution_count": 0,
      "outputs": []
    },
    {
      "metadata": {
        "id": "rs5Rzw97QhOX",
        "colab_type": "text"
      },
      "cell_type": "markdown",
      "source": [
        "### Experiments"
      ]
    },
    {
      "metadata": {
        "id": "-hZzXfX0wKyD",
        "colab_type": "text"
      },
      "cell_type": "markdown",
      "source": [
        "#### KMeans Experiments"
      ]
    },
    {
      "metadata": {
        "id": "B2qALnxz3t-3",
        "colab_type": "code",
        "outputId": "0a6da039-4f39-4da9-bd2e-ceacde087ec2",
        "colab": {
          "base_uri": "https://localhost:8080/",
          "height": 642
        }
      },
      "cell_type": "code",
      "source": [
        "run_final_experiments(km_mixins, final_pipeline, \"PCA\", \"KMeans\",\n",
        "                      split_datasets, experiment_flags=(True, True, False, False),\n",
        "                      verbose=0)"
      ],
      "execution_count": 0,
      "outputs": [
        {
          "output_type": "stream",
          "text": [
            "[0x010] | WARNING: Discarding all but the last entry of clusterspec\n",
            "[0x041] | ===============================================================\n",
            "[0x042] | ===============================================================\n",
            "[0x043] | Experiment: Clustering of raw data\n",
            "[0x044] | \n",
            "[0x017] | Train Results:  [0.00290186 0.08150666 0.01666348]\n",
            "[0x018] | Val Results:  [0.00287989 0.06447624 0.01411454]\n",
            "[0x019] | Test Results:  [0.00181229 0.04636605 0.01025002]\n",
            "[0x013] | ===============================================================\n",
            "[0x014] | ===============================================================\n",
            "[0x015] | Experiment: Clustering of dim-reduced data\n",
            "[0x016] | \n",
            "[0x017] | Train Results:  [0.00639361 0.0660576  0.03356592]\n",
            "[0x018] | Val Results:  [0.01061439 0.03248546 0.02449979]\n",
            "[0x019] | Test Results:  [0.01141604 0.03418549 0.02593206]\n",
            "[0x046] | ===============================================================\n",
            "[0x047] | ===============================================================\n",
            "[0x049] | Experiment: Comparison of CL and DRCL Pipelines\n",
            "[0x049] | \n",
            "[0x04a] | Train Results:  [0.06858663 0.17539489 0.4359332 ]\n",
            "[0x04b] | Val Results:  [0.05572626 0.10386204 0.35781894]\n",
            "[0x04c] | Test Results:  [0.05705004 0.09760358 0.3349164 ]\n"
          ],
          "name": "stdout"
        },
        {
          "output_type": "execute_result",
          "data": {
            "text/plain": [
              "(Pipeline(memory=None,\n",
              "      steps=[('preproc', StandardScaler(copy=True, with_mean=False, with_std=False)), ('clust', KMeans(algorithm='auto', copy_x=True, init='k-means++', max_iter=100,\n",
              "     n_clusters=400, n_init=1, n_jobs=5, precompute_distances='auto',\n",
              "     random_state=None, tol=0.001, verbose=0))]), Pipeline(memory=None,\n",
              "      steps=[('preproc', StandardScaler(copy=True, with_mean=True, with_std=True)), ('dimred', PCA(copy=True, iterated_power='auto', n_components=300, random_state=None,\n",
              "   svd_solver='auto', tol=0, whiten=True))]), Pipeline(memory=None,\n",
              "      steps=[('dimred', Pipeline(memory=None,\n",
              "      steps=[('preproc', StandardScaler(copy=True, with_mean=True, with_std=True)), ('dimred', PCA(copy=True, iterated_power='auto', n_components=300, random_state=None,\n",
              "   svd_solver='auto', tol=0, whiten=True))])), ('clust', Pipeline(memory=None,\n",
              "      steps=[('clust', KMeans(algorithm='auto', copy_x=True, init='k-means++', max_iter=100,\n",
              "     n_clusters=400, n_init=1, n_jobs=5, precompute_distances='auto',\n",
              "     random_state=None, tol=0.001, verbose=0))]))]), <__main__.OneHotted_ClusterPipeline at 0x7fdc93e0d278>)"
            ]
          },
          "metadata": {
            "tags": []
          },
          "execution_count": 10
        }
      ]
    },
    {
      "metadata": {
        "id": "AbG6FDJFQUh-",
        "colab_type": "text"
      },
      "cell_type": "markdown",
      "source": [
        "#### GMM Experiments"
      ]
    },
    {
      "metadata": {
        "id": "ONparLXtQYHF",
        "colab_type": "code",
        "outputId": "4ccf09fa-01d1-4d71-ca72-999a3c0d910e",
        "colab": {
          "base_uri": "https://localhost:8080/",
          "height": 713
        }
      },
      "cell_type": "code",
      "source": [
        "run_final_experiments(gmm_mixins, final_pipeline, \"PCA\", \"GMM\",\n",
        "                      split_datasets, experiment_flags=(True, True, False, False),\n",
        "                      verbose=0)"
      ],
      "execution_count": 0,
      "outputs": [
        {
          "output_type": "stream",
          "text": [
            "/usr/local/lib/python3.6/dist-packages/sklearn/mixture/base.py:273: ConvergenceWarning: Initialization 1 did not converge. Try different init parameters, or increase max_iter, tol or check for degenerate data.\n",
            "  % (init + 1), ConvergenceWarning)\n",
            "/usr/local/lib/python3.6/dist-packages/sklearn/mixture/base.py:273: ConvergenceWarning: Initialization 1 did not converge. Try different init parameters, or increase max_iter, tol or check for degenerate data.\n",
            "  % (init + 1), ConvergenceWarning)\n"
          ],
          "name": "stderr"
        },
        {
          "output_type": "stream",
          "text": [
            "[0x041] | ===============================================================\n",
            "[0x042] | ===============================================================\n",
            "[0x043] | Experiment: Clustering of raw data\n",
            "[0x044] | \n",
            "[0x017] | Train Results:  [0.00158507 0.06344711 0.01241523]\n",
            "[0x018] | Val Results:  [0.00152657 0.03088016 0.00651877]\n",
            "[0x019] | Test Results:  [0.00100255 0.02396039 0.00506851]\n",
            "[0x013] | ===============================================================\n",
            "[0x014] | ===============================================================\n",
            "[0x015] | Experiment: Clustering of dim-reduced data\n",
            "[0x016] | \n",
            "[0x017] | Train Results:  [0.00048449 0.04840407 0.01337863]\n",
            "[0x018] | Val Results:  [0.00122434 0.01344386 0.00448022]\n",
            "[0x019] | Test Results:  [0.00031376 0.0109782  0.00365149]\n",
            "[0x046] | ===============================================================\n",
            "[0x047] | ===============================================================\n",
            "[0x049] | Experiment: Comparison of CL and DRCL Pipelines\n",
            "[0x049] | \n",
            "[0x04a] | Train Results:  [0.06767045 0.26312653 0.37166495]\n",
            "[0x04b] | Val Results:  [0.05871254 0.18945174 0.2990802 ]\n",
            "[0x04c] | Test Results:  [0.06170853 0.19277956 0.3031191 ]\n"
          ],
          "name": "stdout"
        },
        {
          "output_type": "execute_result",
          "data": {
            "text/plain": [
              "(Pipeline(memory=None,\n",
              "      steps=[('clust', GaussianMixture(covariance_type='spherical', init_params='kmeans',\n",
              "         max_iter=100, means_init=None, n_components=400, n_init=1,\n",
              "         precisions_init=None, random_state=None, reg_covar=1e-06,\n",
              "         tol=0.001, verbose=0, verbose_interval=10, warm_start=False,\n",
              "         weights_init=None))]), Pipeline(memory=None,\n",
              "      steps=[('preproc', StandardScaler(copy=True, with_mean=True, with_std=True)), ('dimred', PCA(copy=True, iterated_power='auto', n_components=300, random_state=None,\n",
              "   svd_solver='auto', tol=0, whiten=True))]), Pipeline(memory=None,\n",
              "      steps=[('dimred', Pipeline(memory=None,\n",
              "      steps=[('preproc', StandardScaler(copy=True, with_mean=True, with_std=True)), ('dimred', PCA(copy=True, iterated_power='auto', n_components=300, random_state=None,\n",
              "   svd_solver='auto', tol=0, whiten=True))])), ('clust', Pipeline(memory=None,\n",
              "      steps=[(...        tol=0.001, verbose=0, verbose_interval=10, warm_start=False,\n",
              "         weights_init=None))]))]), <__main__.OneHotted_ClusterPipeline at 0x7fdc9287dfd0>)"
            ]
          },
          "metadata": {
            "tags": []
          },
          "execution_count": 11
        }
      ]
    },
    {
      "metadata": {
        "id": "LC1IKGR-vAvG",
        "colab_type": "text"
      },
      "cell_type": "markdown",
      "source": [
        "### Visualizations"
      ]
    },
    {
      "metadata": {
        "id": "7YdU3ra6vGYc",
        "colab_type": "code",
        "outputId": "078f5d89-8d1f-4cb9-ef63-7b052e607ab7",
        "colab": {
          "base_uri": "https://localhost:8080/",
          "height": 126
        }
      },
      "cell_type": "code",
      "source": [
        "# Reconstruction takes about a minute...\n",
        "\n",
        "recons_dataset = np.clip(val_set[0], 0, 1)\n",
        "tform_dim = pca_num_components(final_tform)\n",
        "transformed_data = final_pipeline.transform(recons_dataset)\n",
        "reconstructions = final_pipeline.inverse_transform(transformed_data)\n",
        "tform_axes = final_tform.components_\n",
        "\n",
        "print(\"[0x027] | \" + tform_name + \"-Transformed Data: \", transformed_data.shape)\n",
        "print(\"[0x028] | \" + tform_name + \" Reductions: \", reconstructions.shape)\n",
        "print(\"[0x029] | \" + tform_name + \" Axes: \", tform_axes.shape)"
      ],
      "execution_count": 0,
      "outputs": [
        {
          "output_type": "stream",
          "text": [
            "/usr/local/lib/python3.6/dist-packages/sklearn/utils/validation.py:595: DataConversionWarning: Data with input dtype int64 was converted to float64 by StandardScaler.\n",
            "  warnings.warn(msg, DataConversionWarning)\n"
          ],
          "name": "stderr"
        },
        {
          "output_type": "stream",
          "text": [
            "[0x027] | PCA-Transformed Data:  (2400, 1000)\n",
            "[0x028] | PCA Reductions:  (2400, 10000)\n",
            "[0x029] | PCA Axes:  (1000, 10000)\n"
          ],
          "name": "stdout"
        }
      ]
    },
    {
      "metadata": {
        "id": "-P8bYDo9og4e",
        "colab_type": "code",
        "outputId": "2371731c-5cc5-46c7-88c7-6805aae6ad42",
        "colab": {
          "base_uri": "https://localhost:8080/",
          "height": 1485
        }
      },
      "cell_type": "code",
      "source": [
        "############################\n",
        "# Customizeable Parameters #\n",
        "############################\n",
        "axis_num_display = 10\n",
        "axis_sig_thresh = .05\n",
        "\n",
        "comp_num_display = 10\n",
        "comp_sig_thresh = .5\n",
        "\n",
        "pca_top_n = 10\n",
        "\n",
        "#######################################################################\n",
        "\n",
        "# Fairly obvious what happens here\n",
        "print(\"[0x02a] | \" + \"The Number of Components found by\", tform_name, \"was: \", tform_dim)\n",
        "  \n",
        "print(\"[0x05f] |\", \"=====================================================\")\n",
        "print(\"[0x060] |\", \"=====================================================\")\n",
        "print(\"[0x061] |\", \"Axis Visualizations\")\n",
        "for index, topic_string in enumerate(visualize_word_components(tform_axes, \n",
        "                                                               vectorizer, \n",
        "                                                               axis_num_display, \n",
        "                                                               axis_sig_thresh)):\n",
        "    print(\"[0x062] |\", \"Axis \", index, \":\", topic_string)\n",
        "\n",
        "print(\"[0x062] |\", \"=====================================================\")\n",
        "print(\"[0x063] |\", \"=====================================================\")\n",
        "print(\"[0x064] |\", \"Reconstruction Experiment\")\n",
        "avg_dist = np.average(np.linalg.norm((recons_dataset - reconstructions) / np.sum(recons_dataset, \n",
        "                                                                                 axis=1, \n",
        "                                                                                 keepdims=True), \n",
        "                                     axis=1, ord=1))\n",
        "print(\"[0x065] |\", \"Average L1 dist RATIO between a bag-of-words and reconstruction is \", avg_dist)\n",
        "\n",
        "for i in range(comp_num_display):\n",
        "    print(\"[0x069] |\", \"{\")\n",
        "    print(\"[0x06b] |\", \"    original: \", countvec_to_string(vectorizer, recons_dataset[i]))\n",
        "    print(\"[0x06b] |\", \"    reconstr: \", countvec_to_string(vectorizer, \n",
        "                                                            threshold_countvecs(reconstructions[i], \n",
        "                                                                                comp_sig_thresh)))\n",
        "    print(\"[0x06a] |\", \"}\")\n",
        "\n",
        "print(\"[0x066] |\", \"=====================================================\")\n",
        "print(\"[0x067] |\", \"=====================================================\")\n",
        "print(\"[0x068] |\", \"Distribution of Eigenvalues\")\n",
        "# Plot the distribution of explained variances\n",
        "pca_top_n = 10 # min(5 * 2, pca_dim)\n",
        "f, (ax1, ax2) = plt.subplots(1, 2, sharey=True)\n",
        "ax1.set_title(\"Explained Variance Frac\")\n",
        "ax1.set(ylabel=\"% of Total Explained Variance\")\n",
        "ax2.set_title(\"Explained Variance Frac of First \" + str(pca_top_n) + \" Components\")\n",
        "ax1.plot(np.arange(pca_num_components(final_tform)), pca_explained_variance_ratio(final_tform), 'bo-')\n",
        "ax2.plot(np.arange(pca_top_n), pca_explained_variance_ratio(final_pca)[:pca_top_n], 'bo-')"
      ],
      "execution_count": 0,
      "outputs": [
        {
          "output_type": "stream",
          "text": [
            "[0x02a] | The Number of Components found by PCA was:  1000\n",
            "[0x05f] | =====================================================\n",
            "[0x060] | =====================================================\n",
            "[0x061] | Axis Visualizations\n",
            "[0x062] | Axis  0 : ['also bad charact come could director end even film first get go good know like look made make man mani movi much never one peopl play realli say scene see seem stori take thing think time tri two want watch way well work would']\n",
            "[0x062] | Axis  1 : ['bad like movi watch']\n",
            "[0x062] | Axis  2 : ['also back charact come end episod even first get girl go good know like look love make man one peopl play say seri show stori take thing time two way well would']\n",
            "[0x062] | Axis  3 : ['bad even film get go good guy like look peopl realli say show thing think want watch would']\n",
            "[0x062] | Axis  4 : ['bad ever get go guy kill like look one thing watch zombi']\n",
            "[0x062] | Axis  5 : ['episod film great love movi one season seri show time tv watch would year']\n",
            "[0x062] | Axis  6 : ['act actor bad charact episod good great like one plot realli scene seri show stori']\n",
            "[0x062] | Axis  7 : ['also beauti great life like look love man one play war world year']\n",
            "[0x062] | Axis  8 : ['act actor also best cast get good great job look man music perform play pretti realli role scene show star time well work']\n",
            "[0x062] | Axis  9 : ['also charact dian first get kill movi murder play plot scene show use']\n",
            "[0x062] | =====================================================\n",
            "[0x063] | =====================================================\n",
            "[0x064] | Reconstruction Experiment\n",
            "[0x065] | Average L1 dist RATIO between a bag-of-words and reconstruction is  2.645675327315131\n",
            "[0x069] | {\n",
            "[0x06b] |     original:  ['age area audienc aunt beauti bring day devot dread energi enjoy entertain film frank get glimmer go golden great hair happili home hope humor inspir last life like live local lust movi nurs often old plenti polish rainbow resid screen silver stori tilli uncl us wife year young']\n",
            "[0x06b] |     reconstr:  ['age audienc beauti bring day enjoy entertain film get go great home hope humor inspir last life like live local movi often old screen stori us wife year young']\n",
            "[0x06a] | }\n",
            "[0x069] | {\n",
            "[0x06b] |     original:  ['also altern babi better clue cut damn death differ done end favorit find footag give good handl instead jami micheal movi origin pretti produc releas ritual scene see seri stori stuff time type version']\n",
            "[0x06b] |     reconstr:  ['also babi better cut death differ done end favorit find footag give good instead movi origin pretti produc releas scene see seri stori stuff time type version']\n",
            "[0x06a] | }\n",
            "[0x069] | {\n",
            "[0x06b] |     original:  ['anymor anyth ask final keep kid leav mayb minut movi old see sleep theater time tri wast watch worth year']\n",
            "[0x06b] |     reconstr:  ['anyth ask final keep kid leav mayb minut movi old see theater time tri wast watch worth year']\n",
            "[0x06a] | }\n",
            "[0x069] | {\n",
            "[0x06b] |     original:  ['adventur age area aspir awesom bad budget camera cast check dark daughter direct disturb earli emili excel excit feel film first girl go good grace great happen home independ innoc judith learn leav life low luck move movi never old open pace peopl rest road run scam show slow small stop stori support teen think tire what whore work young']\n",
            "[0x06b] |     reconstr:  ['adventur age bad budget camera cast check dark daughter direct earli excel excit feel film first girl go good great happen home learn leav life low move movi never old open pace peopl rest run show slow small stop stori support teen think work young']\n",
            "[0x06a] | }\n",
            "[0x069] | {\n",
            "[0x06b] |     original:  ['actor apart australia avoid back becom better beyond bore charismat cinema complet creat deserv director disappoint entir except export fee film four get greatest hide john lame like local look major mayb minut morph never one other paul pointless popul produc project releas role screen seek seem seemingli sydney talent terri thriller thug thursday time wast well']\n",
            "[0x06b] |     reconstr:  ['actor apart avoid back becom better bore cinema complet creat deserv director disappoint entir except film four get john like local look major mayb minut never one other paul produc project releas role screen seem talent thriller time wast well']\n",
            "[0x06a] | }\n",
            "[0x069] | {\n",
            "[0x06b] |     original:  ['accomplish actor also although ambiti anoth appropri around avail baker bang bed begin best bodi brit cain calam carol cast catch christoph collabor come comedi comic crew deathtrap definit demonstr director drama dramat dvd excel execut fall favorit find first former gang get good half halfway hand head hop john join joke juggl keep like line look looni loud mad magnific mani manuscript mark michael mostli movi must mysteri nois one past perfect perfectli perform place plan play playwright premis primarili protest psychopath receiv reev requir retain revolv right ritter run senior set show similarli slapstick slightli soak spin star state stranger strong student subtl success superman surfac surpris surprisingli take taxi think throw time titl togeth tone turn twist underr upon usual veteran view watch well whose wife wish wit within work young']\n",
            "[0x06b] |     reconstr:  ['actor also although anoth around begin best bodi cain cast come comedi comic crew definit director drama dvd excel execut fall favorit find first get good half hand head john joke keep like line look mani mark michael mostli movi must mysteri one past perfect perform place play right run set show star state strong student success superman surpris take think throw time titl togeth turn twist usual view watch well whose wife wish wit within work young']\n",
            "[0x06a] | }\n",
            "[0x069] | {\n",
            "[0x06b] |     original:  ['abraham act actor actress addict ador also amazingli anti anyth apart appar appear asid back bad believ best beyond bit blood bloodi bucket budget case close cloth come consid could crap crowd cruel current cut david director disregard doll done drug dumb earli ed effect elvi especi even ever exactli expect explain exploit fact fake fan father feast film finish fix flamboy focu folk frank funni get give go good gordon gore grisli groundbreak gruesom gut guy happen heart hope howev idiot ignor incompet incred ineptitud interest john kept kill kind know known ladi lame last least lewi liber like look lot low made make manag mani mannequin manner masterpiec mean meat men mind money monster movi murder mutil name nasti nauseat never next none obviou odd oddli one outer overal paint particularli plan play polic poorli pretti probabl pure put rate rather real realli recent rest review rubber said say scene score second seem shot show sick singl sleazi sound space special speech standard start stock string strip stripper style take thing thoroughli though today treat type unattract unrealist use velvet violent want water whose will women wood work wors would wow year yet']\n",
            "[0x06b] |     reconstr:  ['act actor actress also anyth apart appar appear back bad believ best beyond bit blood budget case close come consid could crap cut david director done drug dumb earli ed effect especi even ever exactli expect explain fact fake fan father film funni get give go good gore guy happen heart hope howev incred interest john kill kind know ladi last least like look lot low made make manag mani masterpiec mean men mind money monster movi murder name never next none obviou one overal particularli play polic pretti probabl put rate rather real realli recent rest review said say scene score second seem shot show singl sound space special standard start style take thing though today type use want water whose women wood work wors would year yet']\n",
            "[0x06a] | }\n",
            "[0x069] | {\n",
            "[0x06b] |     original:  ['accustom act afford attent cabl came cardboard channel charact contest cours crap cutout even full gave gerri get give go highli improb instead lanc late lay least like littl lopez luxuri movi much night one pay peopl plastic portray pretti quit rang read real realli reason review role save say see shoot silli stomp surf surfer time true waster watch way went whether would']\n",
            "[0x06b] |     reconstr:  ['act attent came charact cours crap even full gave get give go highli instead late least like littl movi much night one pay peopl portray pretti quit read real realli reason review role save say see shoot silli time true watch way went would']\n",
            "[0x06a] | }\n",
            "[0x069] | {\n",
            "[0x06b] |     original:  ['aliv author bad begin bodi bother brought built cathol centuri circumst clean cling daughter dead edit england english even exactli faith famili feel fight film find formerli gabbi gimmick good got happen hay hidden hide john kind know massacr meet middl minut miss murder mute mysteri never nowher old one owner part place play post reason ride robberi room royal run saloon secret see sight sign someth stori th thing time today trade unfortun unusu want watch wayn western write']\n",
            "[0x06b] |     reconstr:  ['bad begin bodi daughter dead edit english even exactli faith famili feel fight film find good got happen john kind know meet middl minut miss murder mysteri never old one part place play reason room run see someth stori th thing time today unfortun want watch wayn western write']\n",
            "[0x06a] | }\n",
            "[0x069] | {\n",
            "[0x06b] |     original:  ['act action activ actor actress almost alreadi also although anoth anthem arnold aspect attend awar award balanc beauti becom berri big black bless brad brilliantli busi call cast choir church classic closer comment commentari commun contain contrast could counter crash day deep deliv demonstr depart deserv dialog differ disney draw eloqu entir even except famili fashion father film fish fli foul fulli gather get go happi hear heart heavi hold holi huge illus impress inspir involv jess joe keep kid land languag last late let life like line littl lost louis maclean made make mani may mayb meet member missil modern montana mostli movi much music night note noth old one onto open page paint particularli pastor peac peopl perhap picnic pictur pitt play portray program prostitut quietli redford richer river robert roller run safe savior say screech script see seen sermon simpl simplic southern space spoke still stori strict style sunday superbl sway take talent teen thelma thing think third togeth told tom total ugli understand usual violenc watch whose wish would written wrong wrote yet young younger']\n",
            "[0x06b] |     reconstr:  ['act action actor actress almost alreadi also although anoth beauti becom big black call cast church classic comment could day deliv deserv dialog differ disney entir even except famili father film fli get go happi hear heart hold huge impress inspir involv jess joe keep kid last late let life like line littl lost made make mani may mayb meet member modern mostli movi much music night note noth old one open page peopl perhap pictur play portray robert run say script see seen simpl space still stori style take talent thing think togeth told tom total understand usual violenc watch whose wish would written wrong yet young']\n",
            "[0x06a] | }\n",
            "[0x066] | =====================================================\n",
            "[0x067] | =====================================================\n",
            "[0x068] | Distribution of Eigenvalues\n"
          ],
          "name": "stdout"
        },
        {
          "output_type": "execute_result",
          "data": {
            "text/plain": [
              "[<matplotlib.lines.Line2D at 0x7f61e4644e80>]"
            ]
          },
          "metadata": {
            "tags": []
          },
          "execution_count": 55
        },
        {
          "output_type": "display_data",
          "data": {
            "image/png": "[encoded data removed]",
            "text/plain": [
              "<Figure size 576x396 with 2 Axes>"
            ]
          },
          "metadata": {
            "tags": []
          }
        }
      ]
    },
    {
      "metadata": {
        "id": "xte3osgMEYjJ",
        "colab_type": "text"
      },
      "cell_type": "markdown",
      "source": [
        " ## Independent Components Analysis & Experiments\n",
        "\n"
      ]
    },
    {
      "metadata": {
        "id": "e4xEuufVQvPj",
        "colab_type": "text"
      },
      "cell_type": "markdown",
      "source": [
        "### Train Various ICA Configs"
      ]
    },
    {
      "metadata": {
        "id": "no7pPnikEiq2",
        "colab_type": "code",
        "outputId": "03f7a9b2-e828-4907-973a-9b4b49325490",
        "colab": {
          "base_uri": "https://localhost:8080/",
          "height": 90
        }
      },
      "cell_type": "code",
      "source": [
        "# Complexity Looks like O(max_iter * n^2)\n",
        "# Ica with .001 data and no component limit is .78s\n",
        "# Ica with .01 data and no component limit is 79s\n",
        "# ICA with .02 data and no component limit is 320s \n",
        "# ICA with .02 data and 200 components is 13.03s\n",
        "# ICA with .5 data and 200 components 224s [and converges]\n",
        "# ICA with .5 data and 400 components 373s [and converges]\n",
        "# ICA with 1 data and 200 components 373s [and converges]\n",
        "\n",
        "ica_configs = [\n",
        "    # Balances reconstruction power with number of dimensions, I like this\n",
        "    {KEY_PIPELINE: [(KEY_PREPROC, StandardScaler, {\"with_mean\": True, \"with_std\": True}),\n",
        "                  (KEY_DIMRED, FastICA, {\"n_components\": 300, \"max_iter\": 200, \"whiten\": True, \"tol\": 0.001,}),],\n",
        "     KEY_TRAINING: {KEY_REPS: 1},},\n",
        "]\n",
        "\n",
        "ica_pipelines = [None] * len(ica_configs)\n",
        "\n",
        "for index, cfg in enumerate(ica_configs):\n",
        "    print(\"[0x02b] | \" + \"ICA Run \", index)\n",
        "    print(\"[0x02c] | \" + \"Configuration: \", cfg)\n",
        "    \n",
        "    pipeline = get_pipeline(cfg[KEY_PIPELINE])\n",
        "    start_time = time.time()\n",
        "    warnings.filterwarnings(action='ignore', category=DataConversionWarning)\n",
        "       \n",
        "    ica_pipelines[index] = pipeline\n",
        "    ica_pipelines[index].fit(train_set[0])\n",
        "    \n",
        "    warnings.resetwarnings()\n",
        "    end_time = time.time()\n",
        "    print(\"[0x02d] | \" + \"Finished in \", (end_time - start_time), \" seconds\")"
      ],
      "execution_count": 0,
      "outputs": [
        {
          "output_type": "stream",
          "text": [
            "[0x02b] | ICA Run  0\n",
            "[0x02c] | Configuration:  {'pipeline': [('preproc', <class 'sklearn.preprocessing.data.StandardScaler'>, {'with_mean': True, 'with_std': True}), ('dimred', <class 'sklearn.decomposition.fastica_.FastICA'>, {'n_components': 300, 'max_iter': 200, 'whiten': True, 'tol': 0.001})], 'training': {'reps': 1}}\n",
            "[0x02d] | Finished in  908.2003161907196  seconds\n"
          ],
          "name": "stdout"
        }
      ]
    },
    {
      "metadata": {
        "id": "LNTIMdcOErcD",
        "colab_type": "code",
        "colab": {}
      },
      "cell_type": "code",
      "source": [
        "# Experiments for ICA\n",
        "tform_name = \"ICA\"\n",
        "if len(ica_pipelines) != 1:\n",
        "    raise RuntimeWarning(\"Warning: More than one \" + tform_name + \" configuration detected!!!!!!\")   \n",
        "final_pipeline = ica_pipelines[0]\n",
        "final_tform = final_pipeline.named_steps[KEY_DIMRED]"
      ],
      "execution_count": 0,
      "outputs": []
    },
    {
      "metadata": {
        "id": "ozexBU8pRAJW",
        "colab_type": "text"
      },
      "cell_type": "markdown",
      "source": [
        "### Experiments"
      ]
    },
    {
      "metadata": {
        "id": "2XbuXlnCRCES",
        "colab_type": "text"
      },
      "cell_type": "markdown",
      "source": [
        "#### KMeans Experiments"
      ]
    },
    {
      "metadata": {
        "id": "2H28mnZNREDK",
        "colab_type": "code",
        "outputId": "2929c896-5f8b-4d9f-b027-3821dae1d6b2",
        "colab": {
          "base_uri": "https://localhost:8080/",
          "height": 642
        }
      },
      "cell_type": "code",
      "source": [
        "run_final_experiments(km_mixins, final_pipeline, \"ICA\", \"KMeans\",\n",
        "                      split_datasets, experiment_flags=(True, True, False, False),\n",
        "                      verbose=0)"
      ],
      "execution_count": 0,
      "outputs": [
        {
          "output_type": "stream",
          "text": [
            "[0x010] | WARNING: Discarding all but the last entry of clusterspec\n",
            "[0x041] | ===============================================================\n",
            "[0x042] | ===============================================================\n",
            "[0x043] | Experiment: Clustering of raw data\n",
            "[0x044] | \n",
            "[0x017] | Train Results:  [0.00262974 0.07584972 0.01505149]\n",
            "[0x018] | Val Results:  [0.0024222  0.04122756 0.00877829]\n",
            "[0x019] | Test Results:  [0.0018854  0.0453967  0.00970793]\n",
            "[0x013] | ===============================================================\n",
            "[0x014] | ===============================================================\n",
            "[0x015] | Experiment: Clustering of dim-reduced data\n",
            "[0x016] | \n",
            "[0x017] | Train Results:  [0.01748896 0.09279553 0.0474762 ]\n",
            "[0x018] | Val Results:  [0.02195925 0.05727762 0.04400035]\n",
            "[0x019] | Test Results:  [0.02321926 0.05849027 0.04617654]\n",
            "[0x046] | ===============================================================\n",
            "[0x047] | ===============================================================\n",
            "[0x049] | Experiment: Comparison of CL and DRCL Pipelines\n",
            "[0x049] | \n",
            "[0x04a] | Train Results:  [0.06472411 0.1703921  0.43931185]\n",
            "[0x04b] | Val Results:  [0.04848819 0.09596058 0.34621181]\n",
            "[0x04c] | Test Results:  [0.05247813 0.09484534 0.35014775]\n"
          ],
          "name": "stdout"
        },
        {
          "output_type": "execute_result",
          "data": {
            "text/plain": [
              "(Pipeline(memory=None,\n",
              "      steps=[('preproc', StandardScaler(copy=True, with_mean=False, with_std=False)), ('clust', KMeans(algorithm='auto', copy_x=True, init='k-means++', max_iter=100,\n",
              "     n_clusters=400, n_init=1, n_jobs=5, precompute_distances='auto',\n",
              "     random_state=None, tol=0.001, verbose=0))]), Pipeline(memory=None,\n",
              "      steps=[('preproc', StandardScaler(copy=True, with_mean=True, with_std=True)), ('dimred', FastICA(algorithm='parallel', fun='logcosh', fun_args=None, max_iter=200,\n",
              "     n_components=300, random_state=None, tol=0.001, w_init=None,\n",
              "     whiten=True))]), Pipeline(memory=None,\n",
              "      steps=[('dimred', Pipeline(memory=None,\n",
              "      steps=[('preproc', StandardScaler(copy=True, with_mean=True, with_std=True)), ('dimred', FastICA(algorithm='parallel', fun='logcosh', fun_args=None, max_iter=200,\n",
              "     n_components=300, random_state=None, tol=0.001, w_init=None,\n",
              "     whiten=True))])), ('clu..., n_init=1, n_jobs=5, precompute_distances='auto',\n",
              "     random_state=None, tol=0.001, verbose=0))]))]), <__main__.OneHotted_ClusterPipeline at 0x7fdc93e0d208>)"
            ]
          },
          "metadata": {
            "tags": []
          },
          "execution_count": 14
        }
      ]
    },
    {
      "metadata": {
        "id": "_KnHYPxYREOE",
        "colab_type": "text"
      },
      "cell_type": "markdown",
      "source": [
        "#### GMM Experiments"
      ]
    },
    {
      "metadata": {
        "id": "X8IUWbaZRGSQ",
        "colab_type": "code",
        "outputId": "4c964998-223f-406d-b522-a52a6185434f",
        "colab": {
          "base_uri": "https://localhost:8080/",
          "height": 731
        }
      },
      "cell_type": "code",
      "source": [
        "run_final_experiments(gmm_mixins, final_pipeline, \"ICA\", \"GMM\",\n",
        "                      split_datasets, experiment_flags=(True, True, False, False),\n",
        "                      verbose=0)"
      ],
      "execution_count": 0,
      "outputs": [
        {
          "output_type": "stream",
          "text": [
            "/usr/local/lib/python3.6/dist-packages/sklearn/mixture/base.py:273: ConvergenceWarning: Initialization 1 did not converge. Try different init parameters, or increase max_iter, tol or check for degenerate data.\n",
            "  % (init + 1), ConvergenceWarning)\n",
            "/usr/local/lib/python3.6/dist-packages/sklearn/mixture/base.py:273: ConvergenceWarning: Initialization 1 did not converge. Try different init parameters, or increase max_iter, tol or check for degenerate data.\n",
            "  % (init + 1), ConvergenceWarning)\n"
          ],
          "name": "stderr"
        },
        {
          "output_type": "stream",
          "text": [
            "[0x041] | ===============================================================\n",
            "[0x042] | ===============================================================\n",
            "[0x043] | Experiment: Clustering of raw data\n",
            "[0x044] | \n",
            "[0x017] | Train Results:  [0.00158128 0.05998473 0.01136447]\n",
            "[0x018] | Val Results:  [0.00097167 0.03666192 0.00744586]\n",
            "[0x019] | Test Results:  [0.00039367 0.01939588 0.00393708]\n",
            "[0x013] | ===============================================================\n",
            "[0x014] | ===============================================================\n",
            "[0x015] | Experiment: Clustering of dim-reduced data\n",
            "[0x016] | \n",
            "[0x017] | Train Results:  [0.00052606 0.04751222 0.01581669]\n",
            "[0x018] | Val Results:  [0.0002553  0.01211569 0.00507906]\n",
            "[0x019] | Test Results:  [-2.96017490e-05  1.03092436e-02  4.32530456e-03]\n",
            "[0x046] | ===============================================================\n",
            "[0x047] | ===============================================================\n",
            "[0x049] | Experiment: Comparison of CL and DRCL Pipelines\n",
            "[0x049] | \n",
            "[0x04a] | Train Results:  [0.06683238 0.24014262 0.42195988]\n",
            "[0x04b] | Val Results:  [0.05671314 0.16822132 0.34722994]\n",
            "[0x04c] | Test Results:  [0.05766089 0.16509833 0.34124627]\n"
          ],
          "name": "stdout"
        },
        {
          "output_type": "execute_result",
          "data": {
            "text/plain": [
              "(Pipeline(memory=None,\n",
              "      steps=[('clust', GaussianMixture(covariance_type='spherical', init_params='kmeans',\n",
              "         max_iter=100, means_init=None, n_components=400, n_init=1,\n",
              "         precisions_init=None, random_state=None, reg_covar=1e-06,\n",
              "         tol=0.001, verbose=0, verbose_interval=10, warm_start=False,\n",
              "         weights_init=None))]), Pipeline(memory=None,\n",
              "      steps=[('preproc', StandardScaler(copy=True, with_mean=True, with_std=True)), ('dimred', FastICA(algorithm='parallel', fun='logcosh', fun_args=None, max_iter=200,\n",
              "     n_components=300, random_state=None, tol=0.001, w_init=None,\n",
              "     whiten=True))]), Pipeline(memory=None,\n",
              "      steps=[('dimred', Pipeline(memory=None,\n",
              "      steps=[('preproc', StandardScaler(copy=True, with_mean=True, with_std=True)), ('dimred', FastICA(algorithm='parallel', fun='logcosh', fun_args=None, max_iter=200,\n",
              "     n_components=300, random_state=None, tol=0.001, w_init=None,\n",
              "     whiten=True))])), ('clu...        tol=0.001, verbose=0, verbose_interval=10, warm_start=False,\n",
              "         weights_init=None))]))]), <__main__.OneHotted_ClusterPipeline at 0x7fdc932dfe80>)"
            ]
          },
          "metadata": {
            "tags": []
          },
          "execution_count": 15
        }
      ]
    },
    {
      "metadata": {
        "id": "cpga1tiSQ8Gd",
        "colab_type": "text"
      },
      "cell_type": "markdown",
      "source": [
        "### Visualizations"
      ]
    },
    {
      "metadata": {
        "id": "HSgdMF6RQ5lc",
        "colab_type": "code",
        "outputId": "76286dd6-c9f5-40c1-956b-b9792aaba17a",
        "colab": {
          "base_uri": "https://localhost:8080/",
          "height": 126
        }
      },
      "cell_type": "code",
      "source": [
        "# Reconstruction takes about a minute...\n",
        "recons_dataset = np.clip(val_set[0], 0, 1)\n",
        "tform_dim = pca_num_components(final_tform)\n",
        "transformed_data = final_pipeline.transform(recons_dataset)\n",
        "reconstructions = final_pipeline.inverse_transform(transformed_data)\n",
        "tform_axes = final_tform.components_\n",
        "\n",
        "print(\"[0x027] | \" + tform_name + \"-Transformed Data: \", transformed_data.shape)\n",
        "print(\"[0x028] | \" + tform_name + \" Reductions: \", reconstructions.shape)\n",
        "print(\"[0x029] | \" + tform_name + \" Axes: \", tform_axes.shape)"
      ],
      "execution_count": 0,
      "outputs": [
        {
          "output_type": "stream",
          "text": [
            "/usr/local/lib/python3.6/dist-packages/sklearn/utils/validation.py:595: DataConversionWarning: Data with input dtype int64 was converted to float64 by StandardScaler.\n",
            "  warnings.warn(msg, DataConversionWarning)\n"
          ],
          "name": "stderr"
        },
        {
          "output_type": "stream",
          "text": [
            "[0x027] | ICA-Transformed Data:  (2400, 300)\n",
            "[0x028] | ICA Reductions:  (2400, 10000)\n",
            "[0x029] | ICA Axes:  (300, 10000)\n"
          ],
          "name": "stdout"
        }
      ]
    },
    {
      "metadata": {
        "id": "s8_1IMZAEw-B",
        "colab_type": "code",
        "outputId": "7b2005b8-c60a-43f0-b88e-554c9d3dc387",
        "colab": {
          "base_uri": "https://localhost:8080/",
          "height": 1068
        }
      },
      "cell_type": "code",
      "source": [
        "############################\n",
        "# Customizeable Parameters #\n",
        "############################\n",
        "axis_num_display = 10\n",
        "axis_sig_thresh = .0002\n",
        "\n",
        "comp_num_display = 10\n",
        "comp_sig_thresh = .2\n",
        "\n",
        "#######################################################################\n",
        "\n",
        "# Fairly obvious what happens here\n",
        "print(\"[0x02a] | \" + \"The Number of Components found by\", tform_name, \"was: \", tform_dim)\n",
        "  \n",
        "print(\"[0x05f] |\", \"=====================================================\")\n",
        "print(\"[0x060] |\", \"=====================================================\")\n",
        "print(\"[0x061] |\", \"Axis Visualizations\")\n",
        "for index, topic_string in enumerate(visualize_word_components(tform_axes, \n",
        "                                                               vectorizer, \n",
        "                                                               axis_num_display, \n",
        "                                                               axis_sig_thresh)):\n",
        "    print(\"[0x062] |\", \"Axis \", index, \":\", topic_string)\n",
        "\n",
        "print(\"[0x062] |\", \"=====================================================\")\n",
        "print(\"[0x063] |\", \"=====================================================\")\n",
        "print(\"[0x064] |\", \"Reconstruction Experiment\")\n",
        "avg_dist = np.average(np.linalg.norm((recons_dataset - reconstructions) / np.sum(recons_dataset, \n",
        "                                                                                 axis=1, \n",
        "                                                                                 keepdims=True), \n",
        "                                     axis=1, ord=1))\n",
        "print(\"[0x065] |\", \"Average L1 dist RATIO between a bag-of-words and reconstruction is \", avg_dist)\n",
        "\n",
        "for i in range(comp_num_display):\n",
        "    print(\"[0x069] |\", \"{\")\n",
        "    print(\"[0x06b] |\", \"    original: \", countvec_to_string(vectorizer, recons_dataset[i]))\n",
        "    print(\"[0x06b] |\", \"    reconstr: \", countvec_to_string(vectorizer, \n",
        "                                                            threshold_countvecs(reconstructions[i], \n",
        "                                                                                comp_sig_thresh)))\n",
        "    print(\"[0x06a] |\", \"}\")"
      ],
      "execution_count": 0,
      "outputs": [
        {
          "output_type": "stream",
          "text": [
            "[0x02a] | The Number of Components found by ICA was:  300\n",
            "[0x05f] | =====================================================\n",
            "[0x060] | =====================================================\n",
            "[0x061] | Axis Visualizations\n",
            "[0x062] | Axis  0 : ['affirm agenda belief belli bibl biblic bombard callou carlin categor christ christian church debat deceiv disclaim discuss epilogu god inaccur insur jesu joseph marbl messag moral orthodox overt phenomena raptur religi religion represent scholar secondli skeptic sledgehamm smug tactic theolog thirdli threat ufo warp']\n",
            "[0x062] | Axis  1 : ['']\n",
            "[0x062] | Axis  2 : ['']\n",
            "[0x062] | Axis  3 : ['albert alejandro ami amor andi cartoonish cassandra concoct crackl daddi decept delusion devil eerili embezzl encompass estim ethan feroci finney flourish gamut gina hank haul hawk hoffman holden imbu innat insuffer interven ir jenkin jewelri juici katharin lumet marisa masterson mommi payment pinch pivot pov reptil rosemari sear seymour shakespearean sidney snippet starter steiger tomei tote trophi tyron unravel']\n",
            "[0x062] | Axis  4 : ['']\n",
            "[0x062] | Axis  5 : ['adopt ann awaken bet breakfast burt bye carfac casino charli coupl deluis dog dom drown enter feed gambl heaven hors itchi judith mari mermaid mice money orlean orphan pizza pound puppi race reunit reynold share sneak soon unwil vic wallet win']\n",
            "[0x062] | Axis  6 : ['gentlemen leagu']\n",
            "[0x062] | Axis  7 : ['anecdot antiqu conniv creaki curl darken exclaim gypsi household loretta loy myrna nubil servant skirt stormi talki towel']\n",
            "[0x062] | Axis  8 : ['']\n",
            "[0x062] | Axis  9 : ['aloof astonish barbar blunt boss britain censorship chap concept convincingli delud dictatorship earnest england fascist filmic fri futurist gear glorious gusto hapless har hedg hmmm implic institut jerki kingdom lang lyric massey meek metropoli mixtur neglig odditi peer ponder postur prone pump ralph raven raymond resourc restraint richardson sail salvag scenic sceptic scienc scope section slight socialist spectacl startl trifl uncertain undoubtedli unsatisfi visitor yet']\n",
            "[0x062] | =====================================================\n",
            "[0x063] | =====================================================\n",
            "[0x064] | Reconstruction Experiment\n",
            "[0x065] | Average L1 dist RATIO between a bag-of-words and reconstruction is  2.3568049622445306\n",
            "[0x069] | {\n",
            "[0x06b] |     original:  ['age area audienc aunt beauti bring day devot dread energi enjoy entertain film frank get glimmer go golden great hair happili home hope humor inspir last life like live local lust movi nurs often old plenti polish rainbow resid screen silver stori tilli uncl us wife year young']\n",
            "[0x06b] |     reconstr:  ['film get girl good great life like love make movi one play see show stori time watch young']\n",
            "[0x06a] | }\n",
            "[0x069] | {\n",
            "[0x06b] |     original:  ['also altern babi better clue cut damn death differ done end favorit find footag give good handl instead jami micheal movi origin pretti produc releas ritual scene see seri stori stuff time type version']\n",
            "[0x06b] |     reconstr:  ['bad film get good great like make movi one realli scene see show stori time watch well would']\n",
            "[0x06a] | }\n",
            "[0x069] | {\n",
            "[0x06b] |     original:  ['anymor anyth ask final keep kid leav mayb minut movi old see sleep theater time tri wast watch worth year']\n",
            "[0x06b] |     reconstr:  ['bad film get good like love make movi one realli see stori time watch']\n",
            "[0x06a] | }\n",
            "[0x069] | {\n",
            "[0x06b] |     original:  ['adventur age area aspir awesom bad budget camera cast check dark daughter direct disturb earli emili excel excit feel film first girl go good grace great happen home independ innoc judith learn leav life low luck move movi never old open pace peopl rest road run scam show slow small stop stori support teen think tire what whore work young']\n",
            "[0x06b] |     reconstr:  ['act also bad best charact charli end film find get girl go good great life like look love make movi one peopl play realli scene see show stori thing think time watch way well would']\n",
            "[0x06a] | }\n",
            "[0x069] | {\n",
            "[0x06b] |     original:  ['actor apart australia avoid back becom better beyond bore charismat cinema complet creat deserv director disappoint entir except export fee film four get greatest hide john lame like local look major mayb minut morph never one other paul pointless popul produc project releas role screen seek seem seemingli sydney talent terri thriller thug thursday time wast well']\n",
            "[0x06b] |     reconstr:  ['actor also back bad best comedi director dvd end even ever film first get good great jack life like look love made make man movi one peopl plot realli see seen take time watch way well']\n",
            "[0x06a] | }\n",
            "[0x069] | {\n",
            "[0x06b] |     original:  ['accomplish actor also although ambiti anoth appropri around avail baker bang bed begin best bodi brit cain calam carol cast catch christoph collabor come comedi comic crew deathtrap definit demonstr director drama dramat dvd excel execut fall favorit find first former gang get good half halfway hand head hop john join joke juggl keep like line look looni loud mad magnific mani manuscript mark michael mostli movi must mysteri nois one past perfect perfectli perform place plan play playwright premis primarili protest psychopath receiv reev requir retain revolv right ritter run senior set show similarli slapstick slightli soak spin star state stranger strong student subtl success superman surfac surpris surprisingli take taxi think throw time titl togeth tone turn twist underr upon usual veteran view watch well whose wife wish wit within work young']\n",
            "[0x06b] |     reconstr:  ['actor africa almost also alway anoth around back becom best biko cain cast charact come comedi direct director end entertain even famili fan feel film find first friend fun funni get girl give go good great hand home horror hous interest jame jess john keep kill laugh lead life like line littl live look lot love make man mani michael movi mr much music never night one perform person place play plot quit real realli role run say script see set show south star start steve stori take thing time turn two vampir war way well wife wonder wood work world would year young']\n",
            "[0x06a] | }\n",
            "[0x069] | {\n",
            "[0x06b] |     original:  ['abraham act actor actress addict ador also amazingli anti anyth apart appar appear asid back bad believ best beyond bit blood bloodi bucket budget case close cloth come consid could crap crowd cruel current cut david director disregard doll done drug dumb earli ed effect elvi especi even ever exactli expect explain exploit fact fake fan father feast film finish fix flamboy focu folk frank funni get give go good gordon gore grisli groundbreak gruesom gut guy happen heart hope howev idiot ignor incompet incred ineptitud interest john kept kill kind know known ladi lame last least lewi liber like look lot low made make manag mani mannequin manner masterpiec mean meat men mind money monster movi murder mutil name nasti nauseat never next none obviou odd oddli one outer overal paint particularli plan play polic poorli pretti probabl pure put rate rather real realli recent rest review rubber said say scene score second seem shot show sick singl sleazi sound space special speech standard start stock string strip stripper style take thing thoroughli though today treat type unattract unrealist use velvet violent want water whose will women wood work wors would wow year yet']\n",
            "[0x06b] |     reconstr:  ['act action actor actual also anoth anyon anyth apart appear around art away back bad begin believ best better betti big bit black blood bodi budget call camera cast charact come complet could coupl cours cut day dead deal death direct director done durant effect either end enjoy enough entertain even ever everi eye face fact fan far featur feel film final find first flick franki fun funni gay gener get girl give go goe good gore got great guy happen hard head horribl horror howev includ interest keaton kid kill killer kind know lead least let life like littl look lot love low made make man mani might minut money movi much murder music name need never new nice noth old one origin part peopl perform person play plot point poor pretti probabl problem product put quit rate rather real realli reason rest review right run say scene script second see seem seen sens sequenc set sex shot show slasher someth sort star start still stori stuff stupid style take tell thing think though thought time total tri turn two use victim violenc want watch way well whole work wors worst would wrong year yet zombi']\n",
            "[0x06a] | }\n",
            "[0x069] | {\n",
            "[0x06b] |     original:  ['accustom act afford attent cabl came cardboard channel charact contest cours crap cutout even full gave gerri get give go highli improb instead lanc late lay least like littl lopez luxuri movi much night one pay peopl plastic portray pretti quit rang read real realli reason review role save say see shoot silli stomp surf surfer time true waster watch way went whether would']\n",
            "[0x06b] |     reconstr:  ['act actor bad better budget charact day effect end even film first get go good like look love made movi much never noth one peopl real realli right say see seen seri show thing think time tri want watch would']\n",
            "[0x06a] | }\n",
            "[0x069] | {\n",
            "[0x06b] |     original:  ['aliv author bad begin bodi bother brought built cathol centuri circumst clean cling daughter dead edit england english even exactli faith famili feel fight film find formerli gabbi gimmick good got happen hay hidden hide john kind know massacr meet middl minut miss murder mute mysteri never nowher old one owner part place play post reason ride robberi room royal run saloon secret see sight sign someth stori th thing time today trade unfortun unusu want watch wayn western write']\n",
            "[0x06b] |     reconstr:  ['back charact come custer day end episod even famili father film find first get girl go good great john kill life like look love make man movi mr much never one play realli say see seri show stori take tell think time turn two watch way wayn well western would year young']\n",
            "[0x06a] | }\n",
            "[0x069] | {\n",
            "[0x06b] |     original:  ['act action activ actor actress almost alreadi also although anoth anthem arnold aspect attend awar award balanc beauti becom berri big black bless brad brilliantli busi call cast choir church classic closer comment commentari commun contain contrast could counter crash day deep deliv demonstr depart deserv dialog differ disney draw eloqu entir even except famili fashion father film fish fli foul fulli gather get go happi hear heart heavi hold holi huge illus impress inspir involv jess joe keep kid land languag last late let life like line littl lost louis maclean made make mani may mayb meet member missil modern montana mostli movi much music night note noth old one onto open page paint particularli pastor peac peopl perhap picnic pictur pitt play portray program prostitut quietli redford richer river robert roller run safe savior say screech script see seen sermon simpl simplic southern space spoke still stori strict style sunday superbl sway take talent teen thelma thing think third togeth told tom total ugli understand usual violenc watch whose wish would written wrong wrote yet young younger']\n",
            "[0x06b] |     reconstr:  ['act actor actress almost also although alway around art back beauti becom believ best book boy brother car cast charact children citi come could cours david day deal death decid director dream enjoy enough entir especi even ever everi everyon excel face fact famili father feel film find first follow franki friend gay get girl give given go god good got great home interest keep know later life like littl live long look lot love made make man mani matter may mean men mother movi much murder music must need never new old one open parent part paul peopl perform person place play portray quit read real realli relationship review right river robert role run say scene see seem seen set show side someth sound star still stori style take talent thing think though three time tom top tri true two understand us use want war watch way well wife without wonder word work world would year yet young']\n",
            "[0x06a] | }\n"
          ],
          "name": "stdout"
        }
      ]
    },
    {
      "metadata": {
        "id": "z_uPdgyve6tA",
        "colab_type": "text"
      },
      "cell_type": "markdown",
      "source": [
        " ## Randomized Projections"
      ]
    },
    {
      "metadata": {
        "id": "JBqisgvMRr58",
        "colab_type": "text"
      },
      "cell_type": "markdown",
      "source": [
        "### Training the RCA configs"
      ]
    },
    {
      "metadata": {
        "id": "C2_L1wN0e9ST",
        "colab_type": "code",
        "outputId": "f97b0cc4-5861-4029-ff09-72524757d970",
        "colab": {
          "base_uri": "https://localhost:8080/",
          "height": 90
        }
      },
      "cell_type": "code",
      "source": [
        "class i_GRP(GRP):\n",
        "  def inverse_transform(self, X):\n",
        "      return np.matmul(X, ensure_numpy(self.components_))\n",
        "\n",
        "rp_configs = [\n",
        "    # Bad performance lmoa, but takes five seconds with 100% data!\n",
        "    # As good as we're going to get, given that we're not reducing dimensionality at all\n",
        "    {KEY_PIPELINE: [(KEY_PREPROC, StandardScaler, {\"with_mean\": True, \"with_std\": True}),\n",
        "                  (KEY_DIMRED, i_GRP, {\"n_components\": 3072, \"eps\": 0.1,}),],\n",
        "     KEY_TRAINING: {KEY_REPS: 1},},\n",
        "]\n",
        "\n",
        "rp_pipelines = [None] * len(rp_configs)\n",
        "\n",
        "for index, cfg in enumerate(rp_configs):\n",
        "    print(\"[0x032] | \" + \"RP Run \", index)\n",
        "    print(\"[0x033] | \" + \"Configuration: \", cfg)\n",
        "    \n",
        "    pipeline = get_pipeline(cfg[KEY_PIPELINE])\n",
        "    start_time = time.time()\n",
        "    warnings.filterwarnings(action='ignore', category=DataConversionWarning)\n",
        "       \n",
        "    rp_pipelines[index] = pipeline\n",
        "    rp_pipelines[index].fit(train_set[0])\n",
        "    \n",
        "    warnings.resetwarnings()\n",
        "    end_time = time.time()\n",
        "    print(\"[0x034] | \" + \"Finished in \", (end_time - start_time), \" seconds\")\n"
      ],
      "execution_count": 0,
      "outputs": [
        {
          "output_type": "stream",
          "text": [
            "[0x032] | RP Run  0\n",
            "[0x033] | Configuration:  {'pipeline': [('preproc', <class 'sklearn.preprocessing.data.StandardScaler'>, {'with_mean': True, 'with_std': True}), ('dimred', <class '__main__.i_GRP'>, {'n_components': 3072, 'eps': 0.1})], 'training': {'reps': 1}}\n",
            "[0x034] | Finished in  3.892467737197876  seconds\n"
          ],
          "name": "stdout"
        }
      ]
    },
    {
      "metadata": {
        "id": "fM3HpOzge9ej",
        "colab_type": "code",
        "colab": {}
      },
      "cell_type": "code",
      "source": [
        "# Experiments for RP\n",
        "\n",
        "tform_name = \"RP\"\n",
        "if len(pca_pipelines) != 1:\n",
        "    raise RuntimeWarning(\"Warning: More than one \" + tform_name + \" configuration detected!!!!!!\")   \n",
        "final_pipeline = rp_pipelines[0]\n",
        "final_tform = final_pipeline.named_steps[KEY_DIMRED]"
      ],
      "execution_count": 0,
      "outputs": []
    },
    {
      "metadata": {
        "id": "FuDkkvPBRiY-",
        "colab_type": "text"
      },
      "cell_type": "markdown",
      "source": [
        "### Experiments"
      ]
    },
    {
      "metadata": {
        "id": "df2OSrdhRkJ4",
        "colab_type": "text"
      },
      "cell_type": "markdown",
      "source": [
        "#### KMeans Experiments"
      ]
    },
    {
      "metadata": {
        "id": "w0_CUI1WRmah",
        "colab_type": "code",
        "outputId": "0d68c1fc-2f7b-46cc-9dac-98b9648ea862",
        "colab": {
          "base_uri": "https://localhost:8080/",
          "height": 606
        }
      },
      "cell_type": "code",
      "source": [
        "run_final_experiments(km_mixins, final_pipeline, \"RandProj\", \"KMeans\",\n",
        "                      split_datasets, experiment_flags=(True, True, False, False),\n",
        "                      verbose=0)"
      ],
      "execution_count": 0,
      "outputs": [
        {
          "output_type": "stream",
          "text": [
            "[0x010] | WARNING: Discarding all but the last entry of clusterspec\n",
            "[0x041] | ===============================================================\n",
            "[0x042] | ===============================================================\n",
            "[0x043] | Experiment: Clustering of raw data\n",
            "[0x044] | \n",
            "[0x017] | Train Results:  [0.00300096 0.06524059 0.01507257]\n",
            "[0x018] | Val Results:  [0.00220791 0.04099066 0.01025205]\n",
            "[0x019] | Test Results:  [0.00125427 0.0249903  0.00626546]\n",
            "[0x013] | ===============================================================\n",
            "[0x014] | ===============================================================\n",
            "[0x015] | Experiment: Clustering of dim-reduced data\n",
            "[0x016] | \n",
            "[0x017] | Train Results:  [0.00025917 0.04261501 0.03213889]\n",
            "[0x018] | Val Results:  [4.16399414e-05 1.03759791e-02 1.11315704e-02]\n",
            "[0x019] | Test Results:  [-0.0002478   0.00596644  0.0064157 ]\n",
            "[0x046] | ===============================================================\n",
            "[0x047] | ===============================================================\n",
            "[0x049] | Experiment: Comparison of CL and DRCL Pipelines\n",
            "[0x049] | \n",
            "[0x04a] | Train Results:  [0.06826626 0.1629104  0.53179925]\n",
            "[0x04b] | Val Results:  [0.06513138 0.10131738 0.43459585]\n",
            "[0x04c] | Test Results:  [0.06779758 0.10015329 0.42954891]\n"
          ],
          "name": "stdout"
        },
        {
          "output_type": "execute_result",
          "data": {
            "text/plain": [
              "(Pipeline(memory=None,\n",
              "      steps=[('preproc', StandardScaler(copy=True, with_mean=False, with_std=False)), ('clust', KMeans(algorithm='auto', copy_x=True, init='k-means++', max_iter=100,\n",
              "     n_clusters=400, n_init=1, n_jobs=5, precompute_distances='auto',\n",
              "     random_state=None, tol=0.001, verbose=0))]), Pipeline(memory=None,\n",
              "      steps=[('preproc', StandardScaler(copy=True, with_mean=True, with_std=True)), ('dimred', i_GRP(eps=0.1, n_components=3072, random_state=None))]), Pipeline(memory=None,\n",
              "      steps=[('dimred', Pipeline(memory=None,\n",
              "      steps=[('preproc', StandardScaler(copy=True, with_mean=True, with_std=True)), ('dimred', i_GRP(eps=0.1, n_components=3072, random_state=None))])), ('clust', Pipeline(memory=None,\n",
              "      steps=[('clust', KMeans(algorithm='auto', copy_x=True, init='k-means++', max_iter=100,\n",
              "     n_clusters=400, n_init=1, n_jobs=5, precompute_distances='auto',\n",
              "     random_state=None, tol=0.001, verbose=0))]))]), <__main__.OneHotted_ClusterPipeline at 0x7fdc93d92ac8>)"
            ]
          },
          "metadata": {
            "tags": []
          },
          "execution_count": 18
        }
      ]
    },
    {
      "metadata": {
        "id": "ANWil5qfRmlc",
        "colab_type": "text"
      },
      "cell_type": "markdown",
      "source": [
        "#### GMM Experiments"
      ]
    },
    {
      "metadata": {
        "id": "RG5Z0CpURpxk",
        "colab_type": "code",
        "outputId": "e6525d4c-ac22-445c-f001-4baaa1c639d0",
        "colab": {
          "base_uri": "https://localhost:8080/",
          "height": 606
        }
      },
      "cell_type": "code",
      "source": [
        "run_final_experiments(gmm_mixins, final_pipeline, \"RandProj\", \"GMM\",\n",
        "                      split_datasets, experiment_flags=(True, True, False, False),\n",
        "                      verbose=0)"
      ],
      "execution_count": 0,
      "outputs": [
        {
          "output_type": "stream",
          "text": [
            "[0x041] | ===============================================================\n",
            "[0x042] | ===============================================================\n",
            "[0x043] | Experiment: Clustering of raw data\n",
            "[0x044] | \n",
            "[0x017] | Train Results:  [0.00167834 0.06438481 0.01272171]\n",
            "[0x018] | Val Results:  [0.0017659  0.03339458 0.00706491]\n",
            "[0x019] | Test Results:  [0.00089507 0.02366743 0.00501616]\n",
            "[0x013] | ===============================================================\n",
            "[0x014] | ===============================================================\n",
            "[0x015] | Experiment: Clustering of dim-reduced data\n",
            "[0x016] | \n",
            "[0x017] | Train Results:  [0.00026622 0.04193074 0.01534766]\n",
            "[0x018] | Val Results:  [0.00065084 0.0019979  0.00090041]\n",
            "[0x019] | Test Results:  [0.00017111 0.00142919 0.00064212]\n",
            "[0x046] | ===============================================================\n",
            "[0x047] | ===============================================================\n",
            "[0x049] | Experiment: Comparison of CL and DRCL Pipelines\n",
            "[0x049] | \n",
            "[0x04a] | Train Results:  [0.06849521 0.23046733 0.42693019]\n",
            "[0x04b] | Val Results:  [0.05952756 0.16153457 0.34411446]\n",
            "[0x04c] | Test Results:  [0.05923058 0.15953089 0.33818561]\n"
          ],
          "name": "stdout"
        },
        {
          "output_type": "execute_result",
          "data": {
            "text/plain": [
              "(Pipeline(memory=None,\n",
              "      steps=[('clust', GaussianMixture(covariance_type='spherical', init_params='kmeans',\n",
              "         max_iter=100, means_init=None, n_components=400, n_init=1,\n",
              "         precisions_init=None, random_state=None, reg_covar=1e-06,\n",
              "         tol=0.001, verbose=0, verbose_interval=10, warm_start=False,\n",
              "         weights_init=None))]), Pipeline(memory=None,\n",
              "      steps=[('preproc', StandardScaler(copy=True, with_mean=True, with_std=True)), ('dimred', i_GRP(eps=0.1, n_components=3072, random_state=None))]), Pipeline(memory=None,\n",
              "      steps=[('dimred', Pipeline(memory=None,\n",
              "      steps=[('preproc', StandardScaler(copy=True, with_mean=True, with_std=True)), ('dimred', i_GRP(eps=0.1, n_components=3072, random_state=None))])), ('clust', Pipeline(memory=None,\n",
              "      steps=[('clust', GaussianMixture(covariance_type='spherical', init_para...        tol=0.001, verbose=0, verbose_interval=10, warm_start=False,\n",
              "         weights_init=None))]))]), <__main__.OneHotted_ClusterPipeline at 0x7fdc93e1b048>)"
            ]
          },
          "metadata": {
            "tags": []
          },
          "execution_count": 19
        }
      ]
    },
    {
      "metadata": {
        "id": "VyWPbUvCRarW",
        "colab_type": "text"
      },
      "cell_type": "markdown",
      "source": [
        "### Visualizations"
      ]
    },
    {
      "metadata": {
        "id": "LN4p_HcwRdQc",
        "colab_type": "code",
        "outputId": "0fad7d00-f65f-4255-d6fa-81ec283230f9",
        "colab": {
          "base_uri": "https://localhost:8080/",
          "height": 126
        }
      },
      "cell_type": "code",
      "source": [
        "# def invert_rp(projection, projected_data):\n",
        "#     proj_axes = projection.components_\n",
        "#     try:\n",
        "#         proj_axes = proj_axes.toarray()\n",
        "#     except AttributeError:\n",
        "#         pass      \n",
        "#     return np.matmul(projected_data, proj_axes)\n",
        "  \n",
        "# TODO Why does GRP not support inverse_transform?! This is a crime!!\n",
        "# def invert_rp_pipeline(pipeline, projected_data):\n",
        "#     tform = lambda x: x\n",
        "#     if pipeline.named_steps[KEY_PREPROC] is not None:\n",
        "#         tform = lambda x: pipeline.named_steps[KEY_PREPROC].inverse_transform(x)\n",
        "#     return tform(invert_rp(pipeline.named_steps[KEY_DIMRED], projected_data))\n",
        "\n",
        "# Reconstruction takes about a minute...\n",
        "# rp_recons_dataset = val_set[0]\n",
        "# rp_dim = pca_num_components(final_rp)\n",
        "# rp_transformed_data = final_rp_pipeline.transform(rp_recons_dataset)\n",
        "# rp_reconstructions = invert_rp_pipeline(final_rp_pipeline, rp_transformed_data)\n",
        "# rp_axes = final_rp.components_\n",
        "\n",
        "# print(\"[0x035] | \" + \"RP-Transformed Data: \", rp_transformed_data.shape)\n",
        "# print(\"[0x036] | \" + \"RP Reconstruction: \", rp_reconstructions.shape)\n",
        "# print(\"[0x037] | \" + \"RP Axes: \", rp_axes.shape)\n",
        "\n",
        "###############################################################################\n",
        "recons_dataset = np.clip(val_set[0], 0, 1)\n",
        "tform_dim = pca_num_components(final_tform)\n",
        "transformed_data = final_pipeline.transform(recons_dataset)\n",
        "reconstructions = final_pipeline.inverse_transform(transformed_data)\n",
        "tform_axes = final_tform.components_\n",
        "\n",
        "print(\"[0x027] | \" + tform_name + \"-Transformed Data: \", transformed_data.shape)\n",
        "print(\"[0x028] | \" + tform_name + \" Reductions: \", reconstructions.shape)\n",
        "print(\"[0x029] | \" + tform_name + \" Axes: \", tform_axes.shape)"
      ],
      "execution_count": 0,
      "outputs": [
        {
          "output_type": "stream",
          "text": [
            "/usr/local/lib/python3.6/dist-packages/sklearn/utils/validation.py:595: DataConversionWarning: Data with input dtype int64 was converted to float64 by StandardScaler.\n",
            "  warnings.warn(msg, DataConversionWarning)\n"
          ],
          "name": "stderr"
        },
        {
          "output_type": "stream",
          "text": [
            "[0x027] | RP-Transformed Data:  (2400, 3072)\n",
            "[0x028] | RP Reductions:  (2400, 10000)\n",
            "[0x029] | RP Axes:  (3072, 10000)\n"
          ],
          "name": "stdout"
        }
      ]
    },
    {
      "metadata": {
        "id": "1tokHuEIe9nq",
        "colab_type": "code",
        "outputId": "3cdbb5f3-0e8b-4bdf-9612-9883edcec7d5",
        "colab": {
          "base_uri": "https://localhost:8080/",
          "height": 1068
        }
      },
      "cell_type": "code",
      "source": [
        "############################\n",
        "# Customizeable Parameters #\n",
        "############################\n",
        "axis_num_display = 10\n",
        "axis_sig_thresh = .055\n",
        "\n",
        "comp_num_display = 10\n",
        "comp_sig_thresh = .7\n",
        "\n",
        "#######################################################################\n",
        "\n",
        "# Fairly obvious what happens here\n",
        "print(\"[0x02a] | \" + \"The Number of Components found by\", tform_name, \"was: \", tform_dim)\n",
        "  \n",
        "print(\"[0x05f] |\", \"=====================================================\")\n",
        "print(\"[0x060] |\", \"=====================================================\")\n",
        "print(\"[0x061] |\", \"Axis Visualizations\")\n",
        "for index, topic_string in enumerate(visualize_word_components(tform_axes, \n",
        "                                                               vectorizer, \n",
        "                                                               axis_num_display, \n",
        "                                                               axis_sig_thresh)):\n",
        "    print(\"[0x062] |\", \"Axis \", index, \":\", topic_string)\n",
        "\n",
        "print(\"[0x062] |\", \"=====================================================\")\n",
        "print(\"[0x063] |\", \"=====================================================\")\n",
        "print(\"[0x064] |\", \"Reconstruction Experiment\")\n",
        "avg_dist = np.average(np.linalg.norm((recons_dataset - reconstructions) / np.sum(recons_dataset, \n",
        "                                                                                 axis=1, \n",
        "                                                                                 keepdims=True), \n",
        "                                     axis=1, ord=1))\n",
        "print(\"[0x065] |\", \"Average L1 dist RATIO between a bag-of-words and reconstruction is \", avg_dist)\n",
        "\n",
        "for i in range(comp_num_display):\n",
        "    print(\"[0x069] |\", \"{\")\n",
        "    print(\"[0x06b] |\", \"    original: \", countvec_to_string(vectorizer, recons_dataset[i]))\n",
        "    print(\"[0x06b] |\", \"    reconstr: \", countvec_to_string(vectorizer, \n",
        "                                                            threshold_countvecs(reconstructions[i], \n",
        "                                                                                comp_sig_thresh)))\n",
        "    print(\"[0x06a] |\", \"}\")"
      ],
      "execution_count": 0,
      "outputs": [
        {
          "output_type": "stream",
          "text": [
            "[0x02a] | The Number of Components found by RP was:  3072\n",
            "[0x05f] | =====================================================\n",
            "[0x060] | =====================================================\n",
            "[0x061] | Axis Visualizations\n",
            "[0x062] | Axis  0 : ['abort anyway der dope fonda mine simultan sprawl support vin wimp']\n",
            "[0x062] | Axis  1 : ['adult clara crosbi flock gripe juic light mauric moto perspect rapidli republ scorses strap sweetheart watch']\n",
            "[0x062] | Axis  2 : ['bu circul comanch fake furthermor holi manic retir rub undemand variat']\n",
            "[0x062] | Axis  3 : ['africa aimlessli dam hormon kim meaning pistol pope']\n",
            "[0x062] | Axis  4 : ['appar autist british cal charl consult fashion meat meek pole premis purchas quicki receiv replac rpg stealth undeni']\n",
            "[0x062] | Axis  5 : ['bulb chubbi coal flop hyde journal misunderstood orthodox rifl solut']\n",
            "[0x062] | Axis  6 : ['dassin follow katharin keeper milieu patton ridley scholar sherman upbeat wimpi woman']\n",
            "[0x062] | Axis  7 : ['ang back beth east fame feminin firemen flawless imo incorrect ladi lewi nan peni phenomena shrek tempo']\n",
            "[0x062] | Axis  8 : ['circu della flamingo manor mercuri nameless nest roland shove zoo']\n",
            "[0x062] | Axis  9 : ['benefit bernsen cain casey fabl fiasco freshman ideolog montag oddbal peni squirm taker undercurr vengeanc']\n",
            "[0x062] | =====================================================\n",
            "[0x063] | =====================================================\n",
            "[0x064] | Reconstruction Experiment\n",
            "[0x065] | Average L1 dist RATIO between a bag-of-words and reconstruction is  13.310888553502531\n",
            "[0x069] | {\n",
            "[0x06b] |     original:  ['age area audienc aunt beauti bring day devot dread energi enjoy entertain film frank get glimmer go golden great hair happili home hope humor inspir last life like live local lust movi nurs often old plenti polish rainbow resid screen silver stori tilli uncl us wife year young']\n",
            "[0x06b] |     reconstr:  ['ae age area audienc aunt beauti boy bring cast devot direct dread energi enjoy enough entertain even film frank gener glimmer go golden hair happili home human humor interest khouri life like live local look lust much nurs peopl plenti polish rainbow real resid school screen script show silver someth sosuk thing tilli time uncl us vampir watch well wife year young']\n",
            "[0x06a] | }\n",
            "[0x069] | {\n",
            "[0x06b] |     original:  ['also altern babi better clue cut damn death differ done end favorit find footag give good handl instead jami micheal movi origin pretti produc releas ritual scene see seri stori stuff time type version']\n",
            "[0x06b] |     reconstr:  ['act also altern babi better clue cut damn death differ done end favorit film footag give good handl instead jami micheal movi origin play pretti produc releas ritual see seri stori stuff time type version']\n",
            "[0x06a] | }\n",
            "[0x069] | {\n",
            "[0x06b] |     original:  ['anymor anyth ask final keep kid leav mayb minut movi old see sleep theater time tri wast watch worth year']\n",
            "[0x06b] |     reconstr:  ['anymor anyth ask final keep kid leav mayb minut old see sleep theater time tri wast watch worth year']\n",
            "[0x06a] | }\n",
            "[0x069] | {\n",
            "[0x06b] |     original:  ['adventur age area aspir awesom bad budget camera cast check dark daughter direct disturb earli emili excel excit feel film first girl go good grace great happen home independ innoc judith learn leav life low luck move movi never old open pace peopl rest road run scam show slow small stop stori support teen think tire what whore work young']\n",
            "[0x06b] |     reconstr:  ['act age area aspir awesom bad camera cast dark daughter direct director disturb earli emili end episod excit feel first girl give go good grace great happen hickock home independ innoc judith khouri learn let life low luck move myrtl open origin pace panahi peopl rest road run scam seem sequenc shot slow small sosuk stop stori support take teen thought tire two war what whore wife work wrong young']\n",
            "[0x06a] | }\n",
            "[0x069] | {\n",
            "[0x06b] |     original:  ['actor apart australia avoid back becom better beyond bore charismat cinema complet creat deserv director disappoint entir except export fee film four get greatest hide john lame like local look major mayb minut morph never one other paul pointless popul produc project releas role screen seek seem seemingli sydney talent terri thriller thug thursday time wast well']\n",
            "[0x06b] |     reconstr:  ['actor actress adventur ae anyon apart australia avoid bad bafta becom best beyond bore carax caus charismat cinema comic complet countri dark deserv develop direct director disappoint done drama dumb dvd enjoy entir escap evil export fee fill film forc found four gari girl goe greatest hand happen hard help hide highli hollywood hope hour human ichikawa instead island joke keep know later lead like line live local look low made major mayb mean mind minut moment monster morph night other panahi paul perform plan play popul present pretti probabl produc project quit real realli releas role screen seek seem seemingli sinc slow song special still stori superman sydney symbol terri thing though three thug thursday time tri two wast well white women work would young zombi']\n",
            "[0x06a] | }\n",
            "[0x069] | {\n",
            "[0x06b] |     original:  ['accomplish actor also although ambiti anoth appropri around avail baker bang bed begin best bodi brit cain calam carol cast catch christoph collabor come comedi comic crew deathtrap definit demonstr director drama dramat dvd excel execut fall favorit find first former gang get good half halfway hand head hop john join joke juggl keep like line look looni loud mad magnific mani manuscript mark michael mostli movi must mysteri nois one past perfect perfectli perform place plan play playwright premis primarili protest psychopath receiv reev requir retain revolv right ritter run senior set show similarli slapstick slightli soak spin star state stranger strong student subtl success superman surfac surpris surprisingli take taxi think throw time titl togeth tone turn twist underr upon usual veteran view watch well whose wife wish wit within work young']\n",
            "[0x06b] |     reconstr:  ['abl accomplish acr also although ambiti anyth appropri avail aw babi bad baker band bang base bed best bodi bridget brit calam caligula carol cast castl catch certainli christma christoph cinderella civil class clever collabor color comedi comic crew current danc danger deathtrap decid demonstr denzel develop dian director drama dream drive dvd emot end enough episod even event excel execut eye fall famili far father favorit fear feel film first funni gen get go godzilla goe great halfway hamlet hand hard head help hickock hop hous imdb jacki jess job john johnni join joke juggl kid kill king laugh learn like live look looni loud love mad made magnific mani manuscript mari may mind mistak money mostli movi mummi music must myrtl mysteri never night ninja nois non old one parent past peopl perfectli perform philip pick piec place plan play playwright polic poor premis primarili problem produc protest psychopath rather realli receiv recommend reev relationship requir retain review revolv right ritter rule run said say scarlett scott second see seem senior sequenc seri sex show similarli slapstick slasher slightli snake soak someon song space spin state steven stranger strong student stupid subtl success superman sure surfac surpris take taken tamura taxi tension thank theme think thought titl togeth toni true turn tv twist uncl underr upon usual veteran view weird well wendigo whether whose wife wit within work wors worst wrong xavier young']\n",
            "[0x06a] | }\n",
            "[0x069] | {\n",
            "[0x06b] |     original:  ['abraham act actor actress addict ador also amazingli anti anyth apart appar appear asid back bad believ best beyond bit blood bloodi bucket budget case close cloth come consid could crap crowd cruel current cut david director disregard doll done drug dumb earli ed effect elvi especi even ever exactli expect explain exploit fact fake fan father feast film finish fix flamboy focu folk frank funni get give go good gordon gore grisli groundbreak gruesom gut guy happen heart hope howev idiot ignor incompet incred ineptitud interest john kept kill kind know known ladi lame last least lewi liber like look lot low made make manag mani mannequin manner masterpiec mean meat men mind money monster movi murder mutil name nasti nauseat never next none obviou odd oddli one outer overal paint particularli plan play polic poorli pretti probabl pure put rate rather real realli recent rest review rubber said say scene score second seem shot show sick singl sleazi sound space special speech standard start stock string strip stripper style take thing thoroughli though today treat type unattract unrealist use velvet violent want water whose will women wood work wors would wow year yet']\n",
            "[0x06b] |     reconstr:  ['abraham act addict ador ae also amazingli anti anyth apart appar appear asid audienc back bad beauti believ better betti beyond bit blood bodi bring brother bucket budget call care case charact christi close cloth confus could crap creatur crowd cruel current cut david de director disappoint disregard documentari doll done drink drug dumb effect elvi emot especi even ever everyth exactli except expect experi explain exploit fact fail fan father feast fiction first fit fix flamboy folk follow frank funni game gener get go good grisli groundbreak gruesom gut guy happen hard harri heart hickock hilari hit humor ichikawa idiot ignor impress incompet incred ineptitud interview job kept ladi lame later law least less lewi liber like lot low manag mani mannequin manner masterpiec mean meat men michael mind minut money monkey monster motion move movi mr murder mutil mysteri name nasti nauseat never none obviou odd oddli okay opera order outer overal paint parent part particularli perfect perform polic poor poorli pretti product pure put question rather real realli recent rest review role rubber russian said say scene second secret seri sever show sick sign sinc singl sleazi slow someth song soon sound space speech standard star start stock stori streisand string strip stripper style success take tamura tarzan tell thing think thoroughli though today turn type unattract unrealist velvet version violent want water western will women wood word work wors wow year yet young']\n",
            "[0x06a] | }\n",
            "[0x069] | {\n",
            "[0x06b] |     original:  ['accustom act afford attent cabl came cardboard channel charact contest cours crap cutout even full gave gerri get give go highli improb instead lanc late lay least like littl lopez luxuri movi much night one pay peopl plastic portray pretti quit rang read real realli reason review role save say see shoot silli stomp surf surfer time true waster watch way went whether would']\n",
            "[0x06b] |     reconstr:  ['accustom action afford alreadi anoth attent audienc back bore brother cabl came cardboard charact charli color contest crap crowhurst cutout deal demon direct disappoint documentari dress effect els entertain even everyth excel expect famili figur final find full gerri get highli hope hour ichikawa improb instead interest island keep khouri kill know lanc late lay lead least lee littl look lopez love luxuri men might much okay one origin panahi pay plastic play plot portray pretti qualiti quit rang real reason result review role save say scene script see seri shoot shot silli song sosuk soundtrack start stereotyp stomp stori style surf surfer televis thought three time total true turn twist us vampir waster watch went work zabriski']\n",
            "[0x06a] | }\n",
            "[0x069] | {\n",
            "[0x06b] |     original:  ['aliv author bad begin bodi bother brought built cathol centuri circumst clean cling daughter dead edit england english even exactli faith famili feel fight film find formerli gabbi gimmick good got happen hay hidden hide john kind know massacr meet middl minut miss murder mute mysteri never nowher old one owner part place play post reason ride robberi room royal run saloon secret see sight sign someth stori th thing time today trade unfortun unusu want watch wayn western write']\n",
            "[0x06b] |     reconstr:  ['acr ae aliv although andi author away bafta beauti begin bother brought cast cat cathol centuri circumst clean cling comedi cours daughter dead death doll doubt dress england english exactli eye faith favorit feel fight film find formerli fun gabbi game gimmick good guess happen hay head hero hidden interest john kind know laugh make manag mani materi meet middl minut miss murder music mute myrtl mysteri natur new nowher old one owner part particularli peopl perform place point post qualiti reason review richard robberi royal ruin run saloon save second secret see seem show sight sign simpl sinc sing stupid th tom trade unusu version want wayn western wine write young']\n",
            "[0x06a] | }\n",
            "[0x069] | {\n",
            "[0x06b] |     original:  ['act action activ actor actress almost alreadi also although anoth anthem arnold aspect attend awar award balanc beauti becom berri big black bless brad brilliantli busi call cast choir church classic closer comment commentari commun contain contrast could counter crash day deep deliv demonstr depart deserv dialog differ disney draw eloqu entir even except famili fashion father film fish fli foul fulli gather get go happi hear heart heavi hold holi huge illus impress inspir involv jess joe keep kid land languag last late let life like line littl lost louis maclean made make mani may mayb meet member missil modern montana mostli movi much music night note noth old one onto open page paint particularli pastor peac peopl perhap picnic pictur pitt play portray program prostitut quietli redford richer river robert roller run safe savior say screech script see seen sermon simpl simplic southern space spoke still stori strict style sunday superbl sway take talent teen thelma thing think third togeth told tom total ugli understand usual violenc watch whose wish would written wrong wrote yet young younger']\n",
            "[0x06b] |     reconstr:  ['act activ actress alien almost alreadi also amus ann anoth anthem anyon anyth appar arnold art aspect awar award bafta balanc beauti becom berri better black bless brad brilliantli brother bud busi came cartoon case caus charact cheesi children choir church closer comment commun complet contain contrast cop could counter cours crash creatur critic crowhurst cultur danger day death decent deep deliv depart deserv direct documentari donald done draw driver eat edit eloqu end enough errol escap even excel except excit exist expect express faith famili fashion fat father fish fli foul franki game gather gem gener get ghost girl glad great hartley hear heart heavi hero hit hold holi hour huge ice ichikawa illus incred inspir involv italian jame jess joe joke khouri kid kind kiss knew land languag larg life line littl long louis macarthur maclean made make massacr mayb mean meet member might missil modern monster montana mostli mother mr music mysteri new night note novel often one onto open page paint part particularli past pastor pathet peac peopl period peter picnic pictur pitt place polic predict pretti problem program prostitut provid quietli random ranger ray realist realli redford reed remak rememb richer ride river role roller romant ron rose ruin run said sam save savior scienc scott screech script see seen sermon shock short shot side silli simpl simplic sister slasher snake soldier sorri sosuk southern space spoke star start steve still strict studio sunday superbl sway take tamura tarzan teen terribl thelma thing think though told total ugli usual view walk want watch went wife wilson work would written wrong wrote ye york younger zabriski zombi']\n",
            "[0x06a] | }\n"
          ],
          "name": "stdout"
        }
      ]
    },
    {
      "metadata": {
        "id": "5rHcGjLLu4fV",
        "colab_type": "text"
      },
      "cell_type": "markdown",
      "source": [
        "## Variance-Threshold feature selection"
      ]
    },
    {
      "metadata": {
        "id": "pqK6ZpKJSI0d",
        "colab_type": "text"
      },
      "cell_type": "markdown",
      "source": [
        "### Training the FeatureSelector Configs"
      ]
    },
    {
      "metadata": {
        "id": "GaNc1CZHvV8t",
        "colab_type": "code",
        "outputId": "3f8b99ce-8e3c-4f2e-8cc8-14d75c3cf017",
        "colab": {
          "base_uri": "https://localhost:8080/",
          "height": 90
        }
      },
      "cell_type": "code",
      "source": [
        "fs_configs = [\n",
        "    # Looks kinda dumb, but not *totally* dumb\n",
        "    {KEY_PIPELINE: [(KEY_DIMRED, VTSelector, {\"threshold\": .1,})], KEY_TRAINING: {KEY_REPS: 1},},\n",
        "]\n",
        "\n",
        "fs_pipelines = [None] * len(fs_configs)\n",
        "\n",
        "for index, cfg in enumerate(fs_configs):\n",
        "    print(\"[0x039] | \" + \"FS Run \", index)\n",
        "    print(\"[0x03a] | \" + \"Configuration: \", cfg)\n",
        "    \n",
        "    pipeline = get_pipeline(cfg[KEY_PIPELINE])\n",
        "    start_time = time.time()\n",
        "    warnings.filterwarnings(action='ignore', category=DataConversionWarning)\n",
        "       \n",
        "    fs_pipelines[index] = pipeline\n",
        "    fs_pipelines[index].fit(train_set[0])\n",
        "    \n",
        "    warnings.resetwarnings()\n",
        "    end_time = time.time()\n",
        "    print(\"[0x03b] | \" + \"Finished in \", (end_time - start_time), \" seconds\")"
      ],
      "execution_count": 0,
      "outputs": [
        {
          "output_type": "stream",
          "text": [
            "[0x039] | FS Run  0\n",
            "[0x03a] | Configuration:  {'pipeline': [('dimred', <class 'sklearn.feature_selection.variance_threshold.VarianceThreshold'>, {'threshold': 0.1})], 'training': {'reps': 1}}\n",
            "[0x03b] | Finished in  0.9005234241485596  seconds\n"
          ],
          "name": "stdout"
        }
      ]
    },
    {
      "metadata": {
        "id": "50hJ6UJ0vZfL",
        "colab_type": "code",
        "colab": {}
      },
      "cell_type": "code",
      "source": [
        "# Experiments for FS\n",
        "tform_name = \"FS\"\n",
        "if len(fs_pipelines) != 1:\n",
        "    raise RuntimeWarning(\"Warning: More than one \" + tform_name + \" configuration detected!!!!!!\")   \n",
        "final_pipeline = fs_pipelines[0]\n",
        "final_tform = final_pipeline.named_steps[KEY_DIMRED]"
      ],
      "execution_count": 0,
      "outputs": []
    },
    {
      "metadata": {
        "id": "5J-X_UKtSM48",
        "colab_type": "text"
      },
      "cell_type": "markdown",
      "source": [
        "### Experiments"
      ]
    },
    {
      "metadata": {
        "id": "pdG8LN2lSOBq",
        "colab_type": "text"
      },
      "cell_type": "markdown",
      "source": [
        "#### KMeans Experiments"
      ]
    },
    {
      "metadata": {
        "id": "La06yJ7jSQSL",
        "colab_type": "code",
        "outputId": "bcd0a5ba-ad62-44c9-e4c6-ff6f6fd123ca",
        "colab": {
          "base_uri": "https://localhost:8080/",
          "height": 624
        }
      },
      "cell_type": "code",
      "source": [
        "run_final_experiments(km_mixins, final_pipeline, \"VarianceSelection\", \"KMeans\",\n",
        "                      split_datasets, experiment_flags=(True, True, False, False),\n",
        "                      verbose=0)"
      ],
      "execution_count": 0,
      "outputs": [
        {
          "output_type": "stream",
          "text": [
            "[0x010] | WARNING: Discarding all but the last entry of clusterspec\n",
            "[0x041] | ===============================================================\n",
            "[0x042] | ===============================================================\n",
            "[0x043] | Experiment: Clustering of raw data\n",
            "[0x044] | \n",
            "[0x017] | Train Results:  [0.00342561 0.0742545  0.0161565 ]\n",
            "[0x018] | Val Results:  [0.00244703 0.04061968 0.00949296]\n",
            "[0x019] | Test Results:  [0.003441   0.03837674 0.00898192]\n",
            "[0x013] | ===============================================================\n",
            "[0x014] | ===============================================================\n",
            "[0x015] | Experiment: Clustering of dim-reduced data\n",
            "[0x016] | \n",
            "[0x017] | Train Results:  [0.00163682 0.09961921 0.01590488]\n",
            "[0x018] | Val Results:  [0.00098731 0.09240784 0.01533152]\n",
            "[0x019] | Test Results:  [0.00084904 0.07559703 0.01264613]\n",
            "[0x046] | ===============================================================\n",
            "[0x047] | ===============================================================\n",
            "[0x049] | Experiment: Comparison of CL and DRCL Pipelines\n",
            "[0x049] | \n",
            "[0x04a] | Train Results:  [0.25849247 0.62941939 0.46185212]\n",
            "[0x04b] | Val Results:  [0.25484965 0.65981262 0.46841626]\n",
            "[0x04c] | Test Results:  [0.26527224 0.64014546 0.45754131]\n"
          ],
          "name": "stdout"
        },
        {
          "output_type": "execute_result",
          "data": {
            "text/plain": [
              "(Pipeline(memory=None,\n",
              "      steps=[('preproc', StandardScaler(copy=True, with_mean=False, with_std=False)), ('clust', KMeans(algorithm='auto', copy_x=True, init='k-means++', max_iter=100,\n",
              "     n_clusters=400, n_init=1, n_jobs=5, precompute_distances='auto',\n",
              "     random_state=None, tol=0.001, verbose=0))]),\n",
              " Pipeline(memory=None, steps=[('dimred', VarianceThreshold(threshold=0.1))]),\n",
              " Pipeline(memory=None,\n",
              "      steps=[('dimred', Pipeline(memory=None, steps=[('dimred', VarianceThreshold(threshold=0.1))])), ('clust', Pipeline(memory=None,\n",
              "      steps=[('clust', KMeans(algorithm='auto', copy_x=True, init='k-means++', max_iter=100,\n",
              "     n_clusters=400, n_init=1, n_jobs=5, precompute_distances='auto',\n",
              "     random_state=None, tol=0.001, verbose=0))]))]),\n",
              " <__main__.OneHotted_ClusterPipeline at 0x7fdc92890710>)"
            ]
          },
          "metadata": {
            "tags": []
          },
          "execution_count": 22
        }
      ]
    },
    {
      "metadata": {
        "id": "TPByUguoSQYE",
        "colab_type": "text"
      },
      "cell_type": "markdown",
      "source": [
        "#### GMM Experiments"
      ]
    },
    {
      "metadata": {
        "id": "A1E-mdKuSSwQ",
        "colab_type": "code",
        "outputId": "341b70f4-8fac-40c7-8977-84f482351e99",
        "colab": {
          "base_uri": "https://localhost:8080/",
          "height": 713
        }
      },
      "cell_type": "code",
      "source": [
        "run_final_experiments(gmm_mixins, final_pipeline, \"VarianceSelection\", \"GMM\",\n",
        "                      split_datasets, experiment_flags=(True, True, False, False),\n",
        "                      verbose=0)"
      ],
      "execution_count": 0,
      "outputs": [
        {
          "output_type": "stream",
          "text": [
            "/usr/local/lib/python3.6/dist-packages/sklearn/mixture/base.py:273: ConvergenceWarning: Initialization 1 did not converge. Try different init parameters, or increase max_iter, tol or check for degenerate data.\n",
            "  % (init + 1), ConvergenceWarning)\n"
          ],
          "name": "stderr"
        },
        {
          "output_type": "stream",
          "text": [
            "[0x041] | ===============================================================\n",
            "[0x042] | ===============================================================\n",
            "[0x043] | Experiment: Clustering of raw data\n",
            "[0x044] | \n",
            "[0x017] | Train Results:  [0.00164925 0.06736416 0.01287482]\n",
            "[0x018] | Val Results:  [0.00146156 0.04492795 0.00912123]\n",
            "[0x019] | Test Results:  [0.00129449 0.03254903 0.00666763]\n",
            "[0x013] | ===============================================================\n",
            "[0x014] | ===============================================================\n",
            "[0x015] | Experiment: Clustering of dim-reduced data\n",
            "[0x016] | \n",
            "[0x017] | Train Results:  [0.00091203 0.09516662 0.01403245]\n",
            "[0x018] | Val Results:  [0.00064438 0.08192107 0.01272454]\n",
            "[0x019] | Test Results:  [0.00039179 0.06921806 0.01078655]\n",
            "[0x046] | ===============================================================\n",
            "[0x047] | ===============================================================\n",
            "[0x049] | Experiment: Comparison of CL and DRCL Pipelines\n",
            "[0x049] | \n",
            "[0x04a] | Train Results:  [0.16788191 0.59100476 0.45596074]\n",
            "[0x04b] | Val Results:  [0.16908849 0.60389053 0.46202778]\n",
            "[0x04c] | Test Results:  [0.16851027 0.58891051 0.44800121]\n"
          ],
          "name": "stdout"
        },
        {
          "output_type": "execute_result",
          "data": {
            "text/plain": [
              "(Pipeline(memory=None,\n",
              "      steps=[('clust', GaussianMixture(covariance_type='spherical', init_params='kmeans',\n",
              "         max_iter=100, means_init=None, n_components=400, n_init=1,\n",
              "         precisions_init=None, random_state=None, reg_covar=1e-06,\n",
              "         tol=0.001, verbose=0, verbose_interval=10, warm_start=False,\n",
              "         weights_init=None))]),\n",
              " Pipeline(memory=None, steps=[('dimred', VarianceThreshold(threshold=0.1))]),\n",
              " Pipeline(memory=None,\n",
              "      steps=[('dimred', Pipeline(memory=None, steps=[('dimred', VarianceThreshold(threshold=0.1))])), ('clust', Pipeline(memory=None,\n",
              "      steps=[('clust', GaussianMixture(covariance_type='spherical', init_params='kmeans',\n",
              "         max_iter=100, means_init=None, n_components=400, n_init=1,\n",
              "         precisions_init=None, random_state=None, reg_covar=1e-06,\n",
              "         tol=0.001, verbose=0, verbose_interval=10, warm_start=False,\n",
              "         weights_init=None))]))]),\n",
              " <__main__.OneHotted_ClusterPipeline at 0x7fdc9309c4a8>)"
            ]
          },
          "metadata": {
            "tags": []
          },
          "execution_count": 23
        }
      ]
    },
    {
      "metadata": {
        "id": "OXIxM7taSFda",
        "colab_type": "text"
      },
      "cell_type": "markdown",
      "source": [
        "### Visualizations"
      ]
    },
    {
      "metadata": {
        "id": "juMxJYkISEpH",
        "colab_type": "code",
        "outputId": "c9236e98-0afd-4c7d-83a5-cb6b6c31654d",
        "colab": {
          "base_uri": "https://localhost:8080/",
          "height": 53
        }
      },
      "cell_type": "code",
      "source": [
        "# Reconstruction takes about a minute...\n",
        "recons_dataset = val_set[0]\n",
        "transformed_data = final_pipeline.transform(recons_dataset)\n",
        "tform_dim = transformed_data.shape[1]\n",
        "reconstructions = final_pipeline.inverse_transform(transformed_data)\n",
        "\n",
        "__mapped_all = final_pipeline.transform(np.ones(MAX_WORD_FEATURES).reshape(1, -1))\n",
        "chosen_components = final_pipeline.inverse_transform(__mapped_all)\n",
        "\n",
        "print(\"[0x03c] | \" + tform_name + \"-Transformed Data: \", transformed_data.shape)\n",
        "print(\"[0x03d] | \" + tform_name + \" Reconstructions: \", reconstructions.shape)"
      ],
      "execution_count": 0,
      "outputs": [
        {
          "output_type": "stream",
          "text": [
            "[0x03c] | FS-Transformed Data:  (2400, 319)\n",
            "[0x03d] | FS Reconstructions:  (2400, 10000)\n"
          ],
          "name": "stdout"
        }
      ]
    },
    {
      "metadata": {
        "id": "V4EnmT08vdyM",
        "colab_type": "code",
        "outputId": "364e09d5-7842-4b04-8b20-04a16381186a",
        "colab": {
          "base_uri": "https://localhost:8080/",
          "height": 908
        }
      },
      "cell_type": "code",
      "source": [
        "############################\n",
        "# Customizeable Parameters #\n",
        "############################\n",
        "comp_num_display = 10\n",
        "comp_sig_thresh = .2\n",
        "#######################################################################\n",
        "\n",
        "# Fairly obvious what happens here\n",
        "print(\"[0x02a] | \" + \"The Number of Components found by\", tform_name, \"was: \", tform_dim)\n",
        "  \n",
        "print(\"[0x05f] |\", \"=====================================================\")\n",
        "print(\"[0x060] |\", \"=====================================================\")\n",
        "print(\"[0x061] |\", \"Selected words\")\n",
        "print(\"[0x061] |\", countvec_to_string(vectorizer, chosen_components))\n",
        "\n",
        "print(\"[0x062] |\", \"=====================================================\")\n",
        "print(\"[0x063] |\", \"=====================================================\")\n",
        "print(\"[0x064] |\", \"Reconstruction Experiment\")\n",
        "avg_dist = np.average(np.linalg.norm((recons_dataset - reconstructions) / np.sum(recons_dataset, \n",
        "                                                                                 axis=1, \n",
        "                                                                                 keepdims=True), \n",
        "                                     axis=1, ord=1))\n",
        "print(\"[0x065] |\", \"Average L1 dist RATIO between a bag-of-words and reconstruction is \", avg_dist)\n",
        "\n",
        "for i in range(comp_num_display):\n",
        "    print(\"[0x069] |\", \"{\")\n",
        "    print(\"[0x06b] |\", \"    original: \", countvec_to_string(vectorizer, recons_dataset[i]))\n",
        "    print(\"[0x06b] |\", \"    reconstr: \", countvec_to_string(vectorizer, \n",
        "                                                            threshold_countvecs(reconstructions[i], \n",
        "                                                                                comp_sig_thresh)))\n",
        "    print(\"[0x06a] |\", \"}\")"
      ],
      "execution_count": 0,
      "outputs": [
        {
          "output_type": "stream",
          "text": [
            "[0x02a] | The Number of Components found by FS was:  319\n",
            "[0x05f] | =====================================================\n",
            "[0x060] | =====================================================\n",
            "[0x061] | Selected words\n",
            "[0x061] | ['act action actor actual alien almost also although alway american anim anoth anyon anyth appear around art audienc away back bad beauti becom begin believ best better betti big bit black blood book bore boy brother budget call camera car cartoon cast chang charact charli children classic come comedi complet could coupl cours custer cut danc dark day dead death dian die differ direct director doctor documentari done dream dvd earli effect emot end enjoy enough entertain entir episod especi even ever everi everyon everyth evil excel expect eye face fact famili fan far father featur feel fight film final find first flick follow forc found friend fun funni game gamera gay gener get girl give go god goe good got great guy half hand happen hard hate head help high hollywood holm home hope horror hour hous howev human idea instead interest jack jame job john joke keep kid kill killer kind know last later laugh lead least leav let life like line littl live long look lot love made main make man mani mari match may mayb mean men michael might mind minut miss moment money monster mother move movi mr much murder music must name need never new nice night noth old one open origin part peopl perform person pictur place play plot point poor power pretti probabl problem product put quit rate rather read real realli reason releas rememb review right role run said saw say scarlett scene school screen script season second see seem seen sens sequenc seri set sex short shot show sinc soldier someon someth song sound special star start still stori stupid sure take talk tell terribl thing think though thought three time togeth top total tri true turn tv two understand us use vampir version video view viewer voic want war wast watch way well whole wife without woman women wonder work world worst worth would year yet young zombi']\n",
            "[0x062] | =====================================================\n",
            "[0x063] | =====================================================\n",
            "[0x064] | Reconstruction Experiment\n",
            "[0x065] | Average L1 dist RATIO between a bag-of-words and reconstruction is  0.545447073049385\n",
            "[0x069] | {\n",
            "[0x06b] |     original:  ['age area audienc aunt beauti bring day devot dread energi enjoy entertain film frank get glimmer go golden great hair happili home hope humor inspir last life like live local lust movi nurs often old plenti polish rainbow resid screen silver stori tilli uncl us wife year young']\n",
            "[0x06b] |     reconstr:  ['audienc beauti day enjoy entertain film get go great home hope last life like live movi old screen stori us wife year young']\n",
            "[0x06a] | }\n",
            "[0x069] | {\n",
            "[0x06b] |     original:  ['also altern babi better clue cut damn death differ done end favorit find footag give good handl instead jami micheal movi origin pretti produc releas ritual scene see seri stori stuff time type version']\n",
            "[0x06b] |     reconstr:  ['also better cut death differ done end find give good instead movi origin pretti releas scene see seri stori time version']\n",
            "[0x06a] | }\n",
            "[0x069] | {\n",
            "[0x06b] |     original:  ['anymor anyth ask final keep kid leav mayb minut movi old see sleep theater time tri wast watch worth year']\n",
            "[0x06b] |     reconstr:  ['anyth final keep kid leav mayb minut movi old see time tri wast watch worth year']\n",
            "[0x06a] | }\n",
            "[0x069] | {\n",
            "[0x06b] |     original:  ['adventur age area aspir awesom bad budget camera cast check dark daughter direct disturb earli emili excel excit feel film first girl go good grace great happen home independ innoc judith learn leav life low luck move movi never old open pace peopl rest road run scam show slow small stop stori support teen think tire what whore work young']\n",
            "[0x06b] |     reconstr:  ['bad budget camera cast dark direct earli excel feel film first girl go good great happen home leav life move movi never old open peopl run show stori think work young']\n",
            "[0x06a] | }\n",
            "[0x069] | {\n",
            "[0x06b] |     original:  ['actor apart australia avoid back becom better beyond bore charismat cinema complet creat deserv director disappoint entir except export fee film four get greatest hide john lame like local look major mayb minut morph never one other paul pointless popul produc project releas role screen seek seem seemingli sydney talent terri thriller thug thursday time wast well']\n",
            "[0x06b] |     reconstr:  ['actor back becom better bore complet director entir film get john like look mayb minut never one releas role screen seem time wast well']\n",
            "[0x06a] | }\n",
            "[0x069] | {\n",
            "[0x06b] |     original:  ['accomplish actor also although ambiti anoth appropri around avail baker bang bed begin best bodi brit cain calam carol cast catch christoph collabor come comedi comic crew deathtrap definit demonstr director drama dramat dvd excel execut fall favorit find first former gang get good half halfway hand head hop john join joke juggl keep like line look looni loud mad magnific mani manuscript mark michael mostli movi must mysteri nois one past perfect perfectli perform place plan play playwright premis primarili protest psychopath receiv reev requir retain revolv right ritter run senior set show similarli slapstick slightli soak spin star state stranger strong student subtl success superman surfac surpris surprisingli take taxi think throw time titl togeth tone turn twist underr upon usual veteran view watch well whose wife wish wit within work young']\n",
            "[0x06b] |     reconstr:  ['actor also although anoth around begin best cast come comedi director dvd excel find first get good half hand head john joke keep like line look mani michael movi must one perform place play right run set show star take think time togeth turn view watch well wife work young']\n",
            "[0x06a] | }\n",
            "[0x069] | {\n",
            "[0x06b] |     original:  ['abraham act actor actress addict ador also amazingli anti anyth apart appar appear asid back bad believ best beyond bit blood bloodi bucket budget case close cloth come consid could crap crowd cruel current cut david director disregard doll done drug dumb earli ed effect elvi especi even ever exactli expect explain exploit fact fake fan father feast film finish fix flamboy focu folk frank funni get give go good gordon gore grisli groundbreak gruesom gut guy happen heart hope howev idiot ignor incompet incred ineptitud interest john kept kill kind know known ladi lame last least lewi liber like look lot low made make manag mani mannequin manner masterpiec mean meat men mind money monster movi murder mutil name nasti nauseat never next none obviou odd oddli one outer overal paint particularli plan play polic poorli pretti probabl pure put rate rather real realli recent rest review rubber said say scene score second seem shot show sick singl sleazi sound space special speech standard start stock string strip stripper style take thing thoroughli though today treat type unattract unrealist use velvet violent want water whose will women wood work wors would wow year yet']\n",
            "[0x06b] |     reconstr:  ['act actor also anyth appear back bad believ best bit blood budget come could cut director done earli effect especi even ever expect fact fan father film funni get give go good guy happen hope howev interest john kill kind know last least like look lot made make mani mean men mind money monster movi murder name never one play pretti probabl put rate rather real realli review said say scene second seem shot show sound special start take thing though use want women work would year yet']\n",
            "[0x06a] | }\n",
            "[0x069] | {\n",
            "[0x06b] |     original:  ['accustom act afford attent cabl came cardboard channel charact contest cours crap cutout even full gave gerri get give go highli improb instead lanc late lay least like littl lopez luxuri movi much night one pay peopl plastic portray pretti quit rang read real realli reason review role save say see shoot silli stomp surf surfer time true waster watch way went whether would']\n",
            "[0x06b] |     reconstr:  ['act charact cours even get give go instead least like littl movi much night one peopl pretti quit read real realli reason review role say see time true watch way would']\n",
            "[0x06a] | }\n",
            "[0x069] | {\n",
            "[0x06b] |     original:  ['aliv author bad begin bodi bother brought built cathol centuri circumst clean cling daughter dead edit england english even exactli faith famili feel fight film find formerli gabbi gimmick good got happen hay hidden hide john kind know massacr meet middl minut miss murder mute mysteri never nowher old one owner part place play post reason ride robberi room royal run saloon secret see sight sign someth stori th thing time today trade unfortun unusu want watch wayn western write']\n",
            "[0x06b] |     reconstr:  ['bad begin dead even famili feel fight film find good got happen john kind know minut miss murder never old one part place play reason run see someth stori thing time want watch']\n",
            "[0x06a] | }\n",
            "[0x069] | {\n",
            "[0x06b] |     original:  ['act action activ actor actress almost alreadi also although anoth anthem arnold aspect attend awar award balanc beauti becom berri big black bless brad brilliantli busi call cast choir church classic closer comment commentari commun contain contrast could counter crash day deep deliv demonstr depart deserv dialog differ disney draw eloqu entir even except famili fashion father film fish fli foul fulli gather get go happi hear heart heavi hold holi huge illus impress inspir involv jess joe keep kid land languag last late let life like line littl lost louis maclean made make mani may mayb meet member missil modern montana mostli movi much music night note noth old one onto open page paint particularli pastor peac peopl perhap picnic pictur pitt play portray program prostitut quietli redford richer river robert roller run safe savior say screech script see seen sermon simpl simplic southern space spoke still stori strict style sunday superbl sway take talent teen thelma thing think third togeth told tom total ugli understand usual violenc watch whose wish would written wrong wrote yet young younger']\n",
            "[0x06b] |     reconstr:  ['act action actor almost also although anoth beauti becom big black call cast classic could day differ entir even famili father film get go keep kid last let life like line littl made make mani may mayb movi much music night noth old one open peopl pictur play run say script see seen still stori take thing think togeth total understand watch would yet young']\n",
            "[0x06a] | }\n"
          ],
          "name": "stdout"
        }
      ]
    }
  ]
}